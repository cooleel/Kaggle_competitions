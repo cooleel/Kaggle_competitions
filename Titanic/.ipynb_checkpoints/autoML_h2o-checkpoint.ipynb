{
 "cells": [
  {
   "cell_type": "code",
   "execution_count": 1,
   "metadata": {},
   "outputs": [],
   "source": [
    "import h2o\n",
    "from h2o.automl import H2OAutoML"
   ]
  },
  {
   "cell_type": "code",
   "execution_count": 84,
   "metadata": {},
   "outputs": [],
   "source": [
    "import pandas as pd\n",
    "import numpy as np"
   ]
  },
  {
   "cell_type": "code",
   "execution_count": 2,
   "metadata": {},
   "outputs": [
    {
     "name": "stdout",
     "output_type": "stream",
     "text": [
      "Checking whether there is an H2O instance running at http://localhost:54321..... not found.\n",
      "Attempting to start a local H2O server...\n",
      "; Java HotSpot(TM) 64-Bit Server VM (build 25.181-b13, mixed mode)\n",
      "  Starting server from C:\\Users\\Shanshan\\Anaconda2\\envs\\py36\\lib\\site-packages\\h2o\\backend\\bin\\h2o.jar\n",
      "  Ice root: C:\\Users\\Shanshan\\AppData\\Local\\Temp\\tmpn6p5no5p\n",
      "  JVM stdout: C:\\Users\\Shanshan\\AppData\\Local\\Temp\\tmpn6p5no5p\\h2o_Shanshan_started_from_python.out\n",
      "  JVM stderr: C:\\Users\\Shanshan\\AppData\\Local\\Temp\\tmpn6p5no5p\\h2o_Shanshan_started_from_python.err\n",
      "  Server is running at http://127.0.0.1:54321\n",
      "Connecting to H2O server at http://127.0.0.1:54321... successful.\n"
     ]
    },
    {
     "data": {
      "text/html": [
       "<div style=\"overflow:auto\"><table style=\"width:50%\"><tr><td>H2O cluster uptime:</td>\n",
       "<td>02 secs</td></tr>\n",
       "<tr><td>H2O cluster timezone:</td>\n",
       "<td>America/Chicago</td></tr>\n",
       "<tr><td>H2O data parsing timezone:</td>\n",
       "<td>UTC</td></tr>\n",
       "<tr><td>H2O cluster version:</td>\n",
       "<td>3.20.0.7</td></tr>\n",
       "<tr><td>H2O cluster version age:</td>\n",
       "<td>8 days </td></tr>\n",
       "<tr><td>H2O cluster name:</td>\n",
       "<td>H2O_from_python_Shanshan_s7q5nz</td></tr>\n",
       "<tr><td>H2O cluster total nodes:</td>\n",
       "<td>1</td></tr>\n",
       "<tr><td>H2O cluster free memory:</td>\n",
       "<td>7.096 Gb</td></tr>\n",
       "<tr><td>H2O cluster total cores:</td>\n",
       "<td>0</td></tr>\n",
       "<tr><td>H2O cluster allowed cores:</td>\n",
       "<td>0</td></tr>\n",
       "<tr><td>H2O cluster status:</td>\n",
       "<td>accepting new members, healthy</td></tr>\n",
       "<tr><td>H2O connection url:</td>\n",
       "<td>http://127.0.0.1:54321</td></tr>\n",
       "<tr><td>H2O connection proxy:</td>\n",
       "<td>None</td></tr>\n",
       "<tr><td>H2O internal security:</td>\n",
       "<td>False</td></tr>\n",
       "<tr><td>H2O API Extensions:</td>\n",
       "<td>Algos, AutoML, Core V3, Core V4</td></tr>\n",
       "<tr><td>Python version:</td>\n",
       "<td>3.6.4 final</td></tr></table></div>"
      ],
      "text/plain": [
       "--------------------------  -------------------------------\n",
       "H2O cluster uptime:         02 secs\n",
       "H2O cluster timezone:       America/Chicago\n",
       "H2O data parsing timezone:  UTC\n",
       "H2O cluster version:        3.20.0.7\n",
       "H2O cluster version age:    8 days\n",
       "H2O cluster name:           H2O_from_python_Shanshan_s7q5nz\n",
       "H2O cluster total nodes:    1\n",
       "H2O cluster free memory:    7.096 Gb\n",
       "H2O cluster total cores:    0\n",
       "H2O cluster allowed cores:  0\n",
       "H2O cluster status:         accepting new members, healthy\n",
       "H2O connection url:         http://127.0.0.1:54321\n",
       "H2O connection proxy:\n",
       "H2O internal security:      False\n",
       "H2O API Extensions:         Algos, AutoML, Core V3, Core V4\n",
       "Python version:             3.6.4 final\n",
       "--------------------------  -------------------------------"
      ]
     },
     "metadata": {},
     "output_type": "display_data"
    }
   ],
   "source": [
    "h2o.init()"
   ]
  },
  {
   "cell_type": "code",
   "execution_count": 3,
   "metadata": {},
   "outputs": [
    {
     "name": "stdout",
     "output_type": "stream",
     "text": [
      "Parse progress: |█████████████████████████████████████████████████████████| 100%\n",
      "Parse progress: |█████████████████████████████████████████████████████████| 100%\n"
     ]
    }
   ],
   "source": [
    "# Import a sample binary outcome train/test set into H2O\n",
    "train = h2o.import_file(\"https://s3.amazonaws.com/erin-data/higgs/higgs_train_10k.csv\")\n",
    "test = h2o.import_file(\"https://s3.amazonaws.com/erin-data/higgs/higgs_test_5k.csv\")"
   ]
  },
  {
   "cell_type": "code",
   "execution_count": 5,
   "metadata": {},
   "outputs": [
    {
     "data": {
      "text/html": [
       "<table>\n",
       "<thead>\n",
       "<tr><th style=\"text-align: right;\">  response</th><th style=\"text-align: right;\">      x1</th><th style=\"text-align: right;\">       x2</th><th style=\"text-align: right;\">         x3</th><th style=\"text-align: right;\">      x4</th><th style=\"text-align: right;\">       x5</th><th style=\"text-align: right;\">      x6</th><th style=\"text-align: right;\">        x7</th><th style=\"text-align: right;\">        x8</th><th style=\"text-align: right;\">     x9</th><th style=\"text-align: right;\">     x10</th><th style=\"text-align: right;\">      x11</th><th style=\"text-align: right;\">      x12</th><th style=\"text-align: right;\">    x13</th><th style=\"text-align: right;\">     x14</th><th style=\"text-align: right;\">       x15</th><th style=\"text-align: right;\">      x16</th><th style=\"text-align: right;\">    x17</th><th style=\"text-align: right;\">     x18</th><th style=\"text-align: right;\">       x19</th><th style=\"text-align: right;\">        x20</th><th style=\"text-align: right;\">    x21</th><th style=\"text-align: right;\">     x22</th><th style=\"text-align: right;\">     x23</th><th style=\"text-align: right;\">     x24</th><th style=\"text-align: right;\">     x25</th><th style=\"text-align: right;\">     x26</th><th style=\"text-align: right;\">     x27</th><th style=\"text-align: right;\">     x28</th></tr>\n",
       "</thead>\n",
       "<tbody>\n",
       "<tr><td style=\"text-align: right;\">         1</td><td style=\"text-align: right;\">0.869293</td><td style=\"text-align: right;\">-0.635082</td><td style=\"text-align: right;\"> 0.22569   </td><td style=\"text-align: right;\">0.32747 </td><td style=\"text-align: right;\">-0.689993</td><td style=\"text-align: right;\">0.754202</td><td style=\"text-align: right;\">-0.248573 </td><td style=\"text-align: right;\">-1.09206  </td><td style=\"text-align: right;\">0      </td><td style=\"text-align: right;\">1.37499 </td><td style=\"text-align: right;\">-0.653674</td><td style=\"text-align: right;\"> 0.930349</td><td style=\"text-align: right;\">1.10744</td><td style=\"text-align: right;\">1.1389  </td><td style=\"text-align: right;\">-1.5782   </td><td style=\"text-align: right;\">-1.04699 </td><td style=\"text-align: right;\">0      </td><td style=\"text-align: right;\">0.65793 </td><td style=\"text-align: right;\">-0.0104546</td><td style=\"text-align: right;\">-0.0457672 </td><td style=\"text-align: right;\">3.10196</td><td style=\"text-align: right;\">1.35376 </td><td style=\"text-align: right;\">0.979563</td><td style=\"text-align: right;\">0.978076</td><td style=\"text-align: right;\">0.920005</td><td style=\"text-align: right;\">0.721657</td><td style=\"text-align: right;\">0.988751</td><td style=\"text-align: right;\">0.876678</td></tr>\n",
       "<tr><td style=\"text-align: right;\">         1</td><td style=\"text-align: right;\">0.907542</td><td style=\"text-align: right;\"> 0.329147</td><td style=\"text-align: right;\"> 0.359412  </td><td style=\"text-align: right;\">1.49797 </td><td style=\"text-align: right;\">-0.31301 </td><td style=\"text-align: right;\">1.09553 </td><td style=\"text-align: right;\">-0.557525 </td><td style=\"text-align: right;\">-1.58823  </td><td style=\"text-align: right;\">2.17308</td><td style=\"text-align: right;\">0.812581</td><td style=\"text-align: right;\">-0.213642</td><td style=\"text-align: right;\"> 1.27101 </td><td style=\"text-align: right;\">2.21487</td><td style=\"text-align: right;\">0.499994</td><td style=\"text-align: right;\">-1.26143  </td><td style=\"text-align: right;\"> 0.732156</td><td style=\"text-align: right;\">0      </td><td style=\"text-align: right;\">0.398701</td><td style=\"text-align: right;\">-1.13893  </td><td style=\"text-align: right;\">-0.00081911</td><td style=\"text-align: right;\">0      </td><td style=\"text-align: right;\">0.30222 </td><td style=\"text-align: right;\">0.833048</td><td style=\"text-align: right;\">0.9857  </td><td style=\"text-align: right;\">0.978098</td><td style=\"text-align: right;\">0.779732</td><td style=\"text-align: right;\">0.992356</td><td style=\"text-align: right;\">0.798343</td></tr>\n",
       "<tr><td style=\"text-align: right;\">         1</td><td style=\"text-align: right;\">0.798835</td><td style=\"text-align: right;\"> 1.47064 </td><td style=\"text-align: right;\">-1.63597   </td><td style=\"text-align: right;\">0.453773</td><td style=\"text-align: right;\"> 0.425629</td><td style=\"text-align: right;\">1.10487 </td><td style=\"text-align: right;\"> 1.28232  </td><td style=\"text-align: right;\"> 1.38166  </td><td style=\"text-align: right;\">0      </td><td style=\"text-align: right;\">0.851737</td><td style=\"text-align: right;\"> 1.54066 </td><td style=\"text-align: right;\">-0.81969 </td><td style=\"text-align: right;\">2.21487</td><td style=\"text-align: right;\">0.99349 </td><td style=\"text-align: right;\"> 0.35608  </td><td style=\"text-align: right;\">-0.208778</td><td style=\"text-align: right;\">2.54822</td><td style=\"text-align: right;\">1.25695 </td><td style=\"text-align: right;\"> 1.12885  </td><td style=\"text-align: right;\"> 0.900461  </td><td style=\"text-align: right;\">0      </td><td style=\"text-align: right;\">0.909753</td><td style=\"text-align: right;\">1.10833 </td><td style=\"text-align: right;\">0.985692</td><td style=\"text-align: right;\">0.951331</td><td style=\"text-align: right;\">0.803252</td><td style=\"text-align: right;\">0.865924</td><td style=\"text-align: right;\">0.780118</td></tr>\n",
       "<tr><td style=\"text-align: right;\">         0</td><td style=\"text-align: right;\">1.34438 </td><td style=\"text-align: right;\">-0.876626</td><td style=\"text-align: right;\"> 0.935913  </td><td style=\"text-align: right;\">1.99205 </td><td style=\"text-align: right;\"> 0.882454</td><td style=\"text-align: right;\">1.78607 </td><td style=\"text-align: right;\">-1.64678  </td><td style=\"text-align: right;\">-0.942383 </td><td style=\"text-align: right;\">0      </td><td style=\"text-align: right;\">2.42326 </td><td style=\"text-align: right;\">-0.676016</td><td style=\"text-align: right;\"> 0.736159</td><td style=\"text-align: right;\">2.21487</td><td style=\"text-align: right;\">1.29872 </td><td style=\"text-align: right;\">-1.43074  </td><td style=\"text-align: right;\">-0.364658</td><td style=\"text-align: right;\">0      </td><td style=\"text-align: right;\">0.745313</td><td style=\"text-align: right;\">-0.678379 </td><td style=\"text-align: right;\">-1.36036   </td><td style=\"text-align: right;\">0      </td><td style=\"text-align: right;\">0.946652</td><td style=\"text-align: right;\">1.0287  </td><td style=\"text-align: right;\">0.998656</td><td style=\"text-align: right;\">0.728281</td><td style=\"text-align: right;\">0.8692  </td><td style=\"text-align: right;\">1.02674 </td><td style=\"text-align: right;\">0.957904</td></tr>\n",
       "<tr><td style=\"text-align: right;\">         1</td><td style=\"text-align: right;\">1.10501 </td><td style=\"text-align: right;\"> 0.321356</td><td style=\"text-align: right;\"> 1.5224    </td><td style=\"text-align: right;\">0.882808</td><td style=\"text-align: right;\">-1.20535 </td><td style=\"text-align: right;\">0.681466</td><td style=\"text-align: right;\">-1.07046  </td><td style=\"text-align: right;\">-0.921871 </td><td style=\"text-align: right;\">0      </td><td style=\"text-align: right;\">0.800872</td><td style=\"text-align: right;\"> 1.02097 </td><td style=\"text-align: right;\"> 0.971407</td><td style=\"text-align: right;\">2.21487</td><td style=\"text-align: right;\">0.596761</td><td style=\"text-align: right;\">-0.350273 </td><td style=\"text-align: right;\"> 0.631194</td><td style=\"text-align: right;\">0      </td><td style=\"text-align: right;\">0.479999</td><td style=\"text-align: right;\">-0.373566 </td><td style=\"text-align: right;\"> 0.113041  </td><td style=\"text-align: right;\">0      </td><td style=\"text-align: right;\">0.755856</td><td style=\"text-align: right;\">1.36106 </td><td style=\"text-align: right;\">0.98661 </td><td style=\"text-align: right;\">0.838085</td><td style=\"text-align: right;\">1.1333  </td><td style=\"text-align: right;\">0.872245</td><td style=\"text-align: right;\">0.808487</td></tr>\n",
       "<tr><td style=\"text-align: right;\">         0</td><td style=\"text-align: right;\">1.59584 </td><td style=\"text-align: right;\">-0.607811</td><td style=\"text-align: right;\"> 0.00707492</td><td style=\"text-align: right;\">1.81845 </td><td style=\"text-align: right;\">-0.111906</td><td style=\"text-align: right;\">0.84755 </td><td style=\"text-align: right;\">-0.566437 </td><td style=\"text-align: right;\"> 1.58124  </td><td style=\"text-align: right;\">2.17308</td><td style=\"text-align: right;\">0.755421</td><td style=\"text-align: right;\"> 0.64311 </td><td style=\"text-align: right;\"> 1.42637 </td><td style=\"text-align: right;\">0      </td><td style=\"text-align: right;\">0.921661</td><td style=\"text-align: right;\">-1.19043  </td><td style=\"text-align: right;\">-1.61559 </td><td style=\"text-align: right;\">0      </td><td style=\"text-align: right;\">0.651114</td><td style=\"text-align: right;\">-0.654227 </td><td style=\"text-align: right;\">-1.27434   </td><td style=\"text-align: right;\">3.10196</td><td style=\"text-align: right;\">0.823761</td><td style=\"text-align: right;\">0.938191</td><td style=\"text-align: right;\">0.971758</td><td style=\"text-align: right;\">0.789176</td><td style=\"text-align: right;\">0.430553</td><td style=\"text-align: right;\">0.961357</td><td style=\"text-align: right;\">0.957818</td></tr>\n",
       "<tr><td style=\"text-align: right;\">         1</td><td style=\"text-align: right;\">0.409391</td><td style=\"text-align: right;\">-1.88468 </td><td style=\"text-align: right;\">-1.02729   </td><td style=\"text-align: right;\">1.67245 </td><td style=\"text-align: right;\">-1.6046  </td><td style=\"text-align: right;\">1.33801 </td><td style=\"text-align: right;\"> 0.0554274</td><td style=\"text-align: right;\"> 0.0134659</td><td style=\"text-align: right;\">2.17308</td><td style=\"text-align: right;\">0.509783</td><td style=\"text-align: right;\">-1.03834 </td><td style=\"text-align: right;\"> 0.707862</td><td style=\"text-align: right;\">0      </td><td style=\"text-align: right;\">0.746918</td><td style=\"text-align: right;\">-0.358465 </td><td style=\"text-align: right;\">-1.64665 </td><td style=\"text-align: right;\">0      </td><td style=\"text-align: right;\">0.367058</td><td style=\"text-align: right;\"> 0.0694965</td><td style=\"text-align: right;\"> 1.37713   </td><td style=\"text-align: right;\">3.10196</td><td style=\"text-align: right;\">0.869418</td><td style=\"text-align: right;\">1.22208 </td><td style=\"text-align: right;\">1.00063 </td><td style=\"text-align: right;\">0.545045</td><td style=\"text-align: right;\">0.698653</td><td style=\"text-align: right;\">0.977314</td><td style=\"text-align: right;\">0.828786</td></tr>\n",
       "<tr><td style=\"text-align: right;\">         1</td><td style=\"text-align: right;\">0.933895</td><td style=\"text-align: right;\"> 0.62913 </td><td style=\"text-align: right;\"> 0.527535  </td><td style=\"text-align: right;\">0.238033</td><td style=\"text-align: right;\">-0.966569</td><td style=\"text-align: right;\">0.547811</td><td style=\"text-align: right;\">-0.0594392</td><td style=\"text-align: right;\">-1.70687  </td><td style=\"text-align: right;\">2.17308</td><td style=\"text-align: right;\">0.941003</td><td style=\"text-align: right;\">-2.65373 </td><td style=\"text-align: right;\">-0.15722 </td><td style=\"text-align: right;\">0      </td><td style=\"text-align: right;\">1.03037 </td><td style=\"text-align: right;\">-0.175505 </td><td style=\"text-align: right;\"> 0.523021</td><td style=\"text-align: right;\">2.54822</td><td style=\"text-align: right;\">1.37355 </td><td style=\"text-align: right;\"> 1.29125  </td><td style=\"text-align: right;\">-1.46745   </td><td style=\"text-align: right;\">0      </td><td style=\"text-align: right;\">0.901837</td><td style=\"text-align: right;\">1.08367 </td><td style=\"text-align: right;\">0.979696</td><td style=\"text-align: right;\">0.7833  </td><td style=\"text-align: right;\">0.849195</td><td style=\"text-align: right;\">0.894356</td><td style=\"text-align: right;\">0.774879</td></tr>\n",
       "<tr><td style=\"text-align: right;\">         1</td><td style=\"text-align: right;\">1.40514 </td><td style=\"text-align: right;\"> 0.536603</td><td style=\"text-align: right;\"> 0.689554  </td><td style=\"text-align: right;\">1.17957 </td><td style=\"text-align: right;\">-0.110061</td><td style=\"text-align: right;\">3.2024  </td><td style=\"text-align: right;\">-1.52696  </td><td style=\"text-align: right;\">-1.57603  </td><td style=\"text-align: right;\">0      </td><td style=\"text-align: right;\">2.93154 </td><td style=\"text-align: right;\"> 0.567342</td><td style=\"text-align: right;\">-0.130033</td><td style=\"text-align: right;\">2.21487</td><td style=\"text-align: right;\">1.78712 </td><td style=\"text-align: right;\"> 0.899499 </td><td style=\"text-align: right;\"> 0.585151</td><td style=\"text-align: right;\">2.54822</td><td style=\"text-align: right;\">0.401865</td><td style=\"text-align: right;\">-0.151202 </td><td style=\"text-align: right;\"> 1.16349   </td><td style=\"text-align: right;\">0      </td><td style=\"text-align: right;\">1.66707 </td><td style=\"text-align: right;\">4.03927 </td><td style=\"text-align: right;\">1.17583 </td><td style=\"text-align: right;\">1.04535 </td><td style=\"text-align: right;\">1.54297 </td><td style=\"text-align: right;\">3.53483 </td><td style=\"text-align: right;\">2.74075 </td></tr>\n",
       "<tr><td style=\"text-align: right;\">         1</td><td style=\"text-align: right;\">1.17657 </td><td style=\"text-align: right;\"> 0.104161</td><td style=\"text-align: right;\"> 1.397     </td><td style=\"text-align: right;\">0.479721</td><td style=\"text-align: right;\"> 0.265513</td><td style=\"text-align: right;\">1.13556 </td><td style=\"text-align: right;\"> 1.53483  </td><td style=\"text-align: right;\">-0.253291 </td><td style=\"text-align: right;\">0      </td><td style=\"text-align: right;\">1.02725 </td><td style=\"text-align: right;\"> 0.534316</td><td style=\"text-align: right;\"> 1.18002 </td><td style=\"text-align: right;\">0      </td><td style=\"text-align: right;\">2.40566 </td><td style=\"text-align: right;\"> 0.0875568</td><td style=\"text-align: right;\">-0.976534</td><td style=\"text-align: right;\">2.54822</td><td style=\"text-align: right;\">1.25038 </td><td style=\"text-align: right;\"> 0.268541 </td><td style=\"text-align: right;\"> 0.530334  </td><td style=\"text-align: right;\">0      </td><td style=\"text-align: right;\">0.833175</td><td style=\"text-align: right;\">0.773968</td><td style=\"text-align: right;\">0.98575 </td><td style=\"text-align: right;\">1.1037  </td><td style=\"text-align: right;\">0.84914 </td><td style=\"text-align: right;\">0.937104</td><td style=\"text-align: right;\">0.812364</td></tr>\n",
       "</tbody>\n",
       "</table>"
      ]
     },
     "metadata": {},
     "output_type": "display_data"
    },
    {
     "data": {
      "text/plain": []
     },
     "execution_count": 5,
     "metadata": {},
     "output_type": "execute_result"
    }
   ],
   "source": [
    "train.head()"
   ]
  },
  {
   "cell_type": "code",
   "execution_count": 6,
   "metadata": {},
   "outputs": [],
   "source": [
    "# Identify predictors and response\n",
    "x = train.columns\n",
    "y = 'response'\n",
    "x.remove(y)"
   ]
  },
  {
   "cell_type": "code",
   "execution_count": 9,
   "metadata": {},
   "outputs": [],
   "source": [
    "# For binary classification, response should be a factor\n",
    "train[y] = train[y].asfactor()\n",
    "test[y] = test[y].asfactor()"
   ]
  },
  {
   "cell_type": "code",
   "execution_count": 10,
   "metadata": {},
   "outputs": [
    {
     "name": "stdout",
     "output_type": "stream",
     "text": [
      "AutoML progress: |████████████████████████████████████████████████████████| 100%\n"
     ]
    }
   ],
   "source": [
    "#Run autoML\n",
    "aml = H2OAutoML(max_runtime_secs= 30)\n",
    "aml.train(x = x, y = y, training_frame = train)"
   ]
  },
  {
   "cell_type": "code",
   "execution_count": 11,
   "metadata": {},
   "outputs": [
    {
     "data": {
      "text/html": [
       "<table>\n",
       "<thead>\n",
       "<tr><th>model_id                                             </th><th style=\"text-align: right;\">     auc</th><th style=\"text-align: right;\">  logloss</th><th style=\"text-align: right;\">  mean_per_class_error</th><th style=\"text-align: right;\">    rmse</th><th style=\"text-align: right;\">     mse</th></tr>\n",
       "</thead>\n",
       "<tbody>\n",
       "<tr><td>StackedEnsemble_AllModels_0_AutoML_20180909_112900   </td><td style=\"text-align: right;\">0.779714</td><td style=\"text-align: right;\"> 0.562182</td><td style=\"text-align: right;\">              0.3214  </td><td style=\"text-align: right;\">0.437087</td><td style=\"text-align: right;\">0.191045</td></tr>\n",
       "<tr><td>StackedEnsemble_BestOfFamily_0_AutoML_20180909_112900</td><td style=\"text-align: right;\">0.775242</td><td style=\"text-align: right;\"> 0.566284</td><td style=\"text-align: right;\">              0.329348</td><td style=\"text-align: right;\">0.43907 </td><td style=\"text-align: right;\">0.192782</td></tr>\n",
       "<tr><td>GBM_grid_0_AutoML_20180909_112900_model_1            </td><td style=\"text-align: right;\">0.771175</td><td style=\"text-align: right;\"> 0.568704</td><td style=\"text-align: right;\">              0.33074 </td><td style=\"text-align: right;\">0.440579</td><td style=\"text-align: right;\">0.19411 </td></tr>\n",
       "<tr><td>GBM_grid_0_AutoML_20180909_112900_model_0            </td><td style=\"text-align: right;\">0.771119</td><td style=\"text-align: right;\"> 0.568808</td><td style=\"text-align: right;\">              0.338584</td><td style=\"text-align: right;\">0.440569</td><td style=\"text-align: right;\">0.194101</td></tr>\n",
       "<tr><td>GBM_grid_0_AutoML_20180909_112900_model_2            </td><td style=\"text-align: right;\">0.768049</td><td style=\"text-align: right;\"> 0.57184 </td><td style=\"text-align: right;\">              0.340143</td><td style=\"text-align: right;\">0.44221 </td><td style=\"text-align: right;\">0.19555 </td></tr>\n",
       "<tr><td>GBM_grid_0_AutoML_20180909_112900_model_4            </td><td style=\"text-align: right;\">0.767815</td><td style=\"text-align: right;\"> 0.576335</td><td style=\"text-align: right;\">              0.338926</td><td style=\"text-align: right;\">0.443343</td><td style=\"text-align: right;\">0.196553</td></tr>\n",
       "<tr><td>GBM_grid_0_AutoML_20180909_112900_model_3            </td><td style=\"text-align: right;\">0.765303</td><td style=\"text-align: right;\"> 0.577062</td><td style=\"text-align: right;\">              0.345714</td><td style=\"text-align: right;\">0.444197</td><td style=\"text-align: right;\">0.197311</td></tr>\n",
       "<tr><td>XRT_0_AutoML_20180909_112900                         </td><td style=\"text-align: right;\">0.735015</td><td style=\"text-align: right;\"> 0.611788</td><td style=\"text-align: right;\">              0.372377</td><td style=\"text-align: right;\">0.456214</td><td style=\"text-align: right;\">0.208131</td></tr>\n",
       "<tr><td>DRF_0_AutoML_20180909_112900                         </td><td style=\"text-align: right;\">0.734187</td><td style=\"text-align: right;\"> 0.602434</td><td style=\"text-align: right;\">              0.375312</td><td style=\"text-align: right;\">0.455957</td><td style=\"text-align: right;\">0.207897</td></tr>\n",
       "<tr><td>GLM_grid_0_AutoML_20180909_112900_model_0            </td><td style=\"text-align: right;\">0.680615</td><td style=\"text-align: right;\"> 0.639478</td><td style=\"text-align: right;\">              0.390189</td><td style=\"text-align: right;\">0.473077</td><td style=\"text-align: right;\">0.223802</td></tr>\n",
       "</tbody>\n",
       "</table>"
      ]
     },
     "metadata": {},
     "output_type": "display_data"
    },
    {
     "data": {
      "text/plain": []
     },
     "execution_count": 11,
     "metadata": {},
     "output_type": "execute_result"
    }
   ],
   "source": [
    "#view the autoML leaderboard\n",
    "lb = aml.leaderboard\n",
    "lb"
   ]
  },
  {
   "cell_type": "code",
   "execution_count": 210,
   "metadata": {},
   "outputs": [
    {
     "name": "stdout",
     "output_type": "stream",
     "text": [
      "Parse progress: |█████████████████████████████████████████████████████████| 100%\n",
      "Parse progress: |█████████████████████████████████████████████████████████| 100%\n"
     ]
    }
   ],
   "source": [
    "#Titanic data with autoML\n",
    "#load dataset to h2o\n",
    "train = h2o.import_file('./archive/train.csv')\n",
    "cv = h2o.import_file('./archive/cross_validation.csv')"
   ]
  },
  {
   "cell_type": "code",
   "execution_count": 212,
   "metadata": {},
   "outputs": [],
   "source": [
    "train = train.merge(cv,all_x=True)"
   ]
  },
  {
   "cell_type": "code",
   "execution_count": 214,
   "metadata": {},
   "outputs": [
    {
     "data": {
      "text/html": [
       "<table>\n",
       "<thead>\n",
       "<tr><th style=\"text-align: right;\">  Cabin_4</th><th style=\"text-align: right;\">  Prefix_4.0</th><th style=\"text-align: right;\">     Age</th><th style=\"text-align: right;\">  Embarked_1</th><th style=\"text-align: right;\">  Cabin_7</th><th style=\"text-align: right;\">  Embarked_2</th><th style=\"text-align: right;\">  Embarked_3</th><th style=\"text-align: right;\">     Fare</th><th style=\"text-align: right;\">  Pclass_2</th><th style=\"text-align: right;\">  Sex_0</th><th style=\"text-align: right;\">  Survived</th><th style=\"text-align: right;\">  Cabin_0</th><th style=\"text-align: right;\">  Prefix_1.0</th><th style=\"text-align: right;\">  Prefix_3.0</th><th style=\"text-align: right;\">  Embarked_0</th><th style=\"text-align: right;\">  Pclass_3</th><th style=\"text-align: right;\">  Cabin_6</th><th style=\"text-align: right;\">    SibSp</th><th style=\"text-align: right;\">  Cabin_3</th><th style=\"text-align: right;\">    Parch</th><th style=\"text-align: right;\">  Cabin_5</th><th style=\"text-align: right;\">  Cabin_1</th><th style=\"text-align: right;\">  Cabin_8</th><th style=\"text-align: right;\">  Pclass_1</th><th style=\"text-align: right;\">  Prefix_2.0</th><th style=\"text-align: right;\">  Cabin_2</th><th style=\"text-align: right;\">  Sex_1</th><th style=\"text-align: right;\">  PassengerId</th></tr>\n",
       "</thead>\n",
       "<tbody>\n",
       "<tr><td style=\"text-align: right;\">        0</td><td style=\"text-align: right;\">           0</td><td style=\"text-align: right;\">-1.38935</td><td style=\"text-align: right;\">           0</td><td style=\"text-align: right;\">        0</td><td style=\"text-align: right;\">           0</td><td style=\"text-align: right;\">           1</td><td style=\"text-align: right;\">-0.490828</td><td style=\"text-align: right;\">         0</td><td style=\"text-align: right;\">      1</td><td style=\"text-align: right;\">         0</td><td style=\"text-align: right;\">        1</td><td style=\"text-align: right;\">           0</td><td style=\"text-align: right;\">           0</td><td style=\"text-align: right;\">           0</td><td style=\"text-align: right;\">         1</td><td style=\"text-align: right;\">        0</td><td style=\"text-align: right;\">-0.466647</td><td style=\"text-align: right;\">        0</td><td style=\"text-align: right;\">-0.487061</td><td style=\"text-align: right;\">        0</td><td style=\"text-align: right;\">        0</td><td style=\"text-align: right;\">        0</td><td style=\"text-align: right;\">         0</td><td style=\"text-align: right;\">           1</td><td style=\"text-align: right;\">        0</td><td style=\"text-align: right;\">      0</td><td style=\"text-align: right;\">          236</td></tr>\n",
       "<tr><td style=\"text-align: right;\">        0</td><td style=\"text-align: right;\">           0</td><td style=\"text-align: right;\">-1.38935</td><td style=\"text-align: right;\">           0</td><td style=\"text-align: right;\">        0</td><td style=\"text-align: right;\">           0</td><td style=\"text-align: right;\">           1</td><td style=\"text-align: right;\">-0.480796</td><td style=\"text-align: right;\">         0</td><td style=\"text-align: right;\">      1</td><td style=\"text-align: right;\">         0</td><td style=\"text-align: right;\">        1</td><td style=\"text-align: right;\">           0</td><td style=\"text-align: right;\">           0</td><td style=\"text-align: right;\">           0</td><td style=\"text-align: right;\">         1</td><td style=\"text-align: right;\">        0</td><td style=\"text-align: right;\">-0.466647</td><td style=\"text-align: right;\">        0</td><td style=\"text-align: right;\">-0.487061</td><td style=\"text-align: right;\">        0</td><td style=\"text-align: right;\">        0</td><td style=\"text-align: right;\">        0</td><td style=\"text-align: right;\">         0</td><td style=\"text-align: right;\">           1</td><td style=\"text-align: right;\">        0</td><td style=\"text-align: right;\">      0</td><td style=\"text-align: right;\">          565</td></tr>\n",
       "<tr><td style=\"text-align: right;\">        0</td><td style=\"text-align: right;\">           0</td><td style=\"text-align: right;\">-1.38935</td><td style=\"text-align: right;\">           0</td><td style=\"text-align: right;\">        0</td><td style=\"text-align: right;\">           0</td><td style=\"text-align: right;\">           1</td><td style=\"text-align: right;\">-0.480796</td><td style=\"text-align: right;\">         0</td><td style=\"text-align: right;\">      1</td><td style=\"text-align: right;\">         0</td><td style=\"text-align: right;\">        1</td><td style=\"text-align: right;\">           0</td><td style=\"text-align: right;\">           1</td><td style=\"text-align: right;\">           0</td><td style=\"text-align: right;\">         1</td><td style=\"text-align: right;\">        0</td><td style=\"text-align: right;\">-0.466647</td><td style=\"text-align: right;\">        0</td><td style=\"text-align: right;\">-0.487061</td><td style=\"text-align: right;\">        0</td><td style=\"text-align: right;\">        0</td><td style=\"text-align: right;\">        0</td><td style=\"text-align: right;\">         0</td><td style=\"text-align: right;\">           0</td><td style=\"text-align: right;\">        0</td><td style=\"text-align: right;\">      0</td><td style=\"text-align: right;\">          416</td></tr>\n",
       "<tr><td style=\"text-align: right;\">        0</td><td style=\"text-align: right;\">           0</td><td style=\"text-align: right;\">-1.38935</td><td style=\"text-align: right;\">           0</td><td style=\"text-align: right;\">        0</td><td style=\"text-align: right;\">           0</td><td style=\"text-align: right;\">           1</td><td style=\"text-align: right;\">-0.319275</td><td style=\"text-align: right;\">         0</td><td style=\"text-align: right;\">      1</td><td style=\"text-align: right;\">         1</td><td style=\"text-align: right;\">        1</td><td style=\"text-align: right;\">           0</td><td style=\"text-align: right;\">           1</td><td style=\"text-align: right;\">           0</td><td style=\"text-align: right;\">         1</td><td style=\"text-align: right;\">        0</td><td style=\"text-align: right;\"> 0.43145 </td><td style=\"text-align: right;\">        0</td><td style=\"text-align: right;\">-0.487061</td><td style=\"text-align: right;\">        0</td><td style=\"text-align: right;\">        0</td><td style=\"text-align: right;\">        0</td><td style=\"text-align: right;\">         0</td><td style=\"text-align: right;\">           0</td><td style=\"text-align: right;\">        0</td><td style=\"text-align: right;\">      0</td><td style=\"text-align: right;\">          348</td></tr>\n",
       "<tr><td style=\"text-align: right;\">        0</td><td style=\"text-align: right;\">           0</td><td style=\"text-align: right;\">-1.38935</td><td style=\"text-align: right;\">           0</td><td style=\"text-align: right;\">        0</td><td style=\"text-align: right;\">           0</td><td style=\"text-align: right;\">           1</td><td style=\"text-align: right;\">-0.319275</td><td style=\"text-align: right;\">         0</td><td style=\"text-align: right;\">      1</td><td style=\"text-align: right;\">         1</td><td style=\"text-align: right;\">        1</td><td style=\"text-align: right;\">           0</td><td style=\"text-align: right;\">           1</td><td style=\"text-align: right;\">           0</td><td style=\"text-align: right;\">         1</td><td style=\"text-align: right;\">        0</td><td style=\"text-align: right;\"> 0.43145 </td><td style=\"text-align: right;\">        0</td><td style=\"text-align: right;\">-0.487061</td><td style=\"text-align: right;\">        0</td><td style=\"text-align: right;\">        0</td><td style=\"text-align: right;\">        0</td><td style=\"text-align: right;\">         0</td><td style=\"text-align: right;\">           0</td><td style=\"text-align: right;\">        0</td><td style=\"text-align: right;\">      0</td><td style=\"text-align: right;\">          432</td></tr>\n",
       "<tr><td style=\"text-align: right;\">        0</td><td style=\"text-align: right;\">           0</td><td style=\"text-align: right;\">-1.38935</td><td style=\"text-align: right;\">           0</td><td style=\"text-align: right;\">        0</td><td style=\"text-align: right;\">           0</td><td style=\"text-align: right;\">           1</td><td style=\"text-align: right;\">-0.171799</td><td style=\"text-align: right;\">         0</td><td style=\"text-align: right;\">      1</td><td style=\"text-align: right;\">         0</td><td style=\"text-align: right;\">        1</td><td style=\"text-align: right;\">           0</td><td style=\"text-align: right;\">           0</td><td style=\"text-align: right;\">           0</td><td style=\"text-align: right;\">         1</td><td style=\"text-align: right;\">        0</td><td style=\"text-align: right;\"> 0.43145 </td><td style=\"text-align: right;\">        0</td><td style=\"text-align: right;\"> 2.10732 </td><td style=\"text-align: right;\">        0</td><td style=\"text-align: right;\">        0</td><td style=\"text-align: right;\">        0</td><td style=\"text-align: right;\">         0</td><td style=\"text-align: right;\">           1</td><td style=\"text-align: right;\">        0</td><td style=\"text-align: right;\">      0</td><td style=\"text-align: right;\">          889</td></tr>\n",
       "<tr><td style=\"text-align: right;\">        0</td><td style=\"text-align: right;\">           0</td><td style=\"text-align: right;\">-1.38935</td><td style=\"text-align: right;\">           0</td><td style=\"text-align: right;\">        0</td><td style=\"text-align: right;\">           0</td><td style=\"text-align: right;\">           1</td><td style=\"text-align: right;\">-0.131334</td><td style=\"text-align: right;\">         0</td><td style=\"text-align: right;\">      0</td><td style=\"text-align: right;\">         0</td><td style=\"text-align: right;\">        1</td><td style=\"text-align: right;\">           1</td><td style=\"text-align: right;\">           0</td><td style=\"text-align: right;\">           0</td><td style=\"text-align: right;\">         1</td><td style=\"text-align: right;\">        0</td><td style=\"text-align: right;\"> 2.22764 </td><td style=\"text-align: right;\">        0</td><td style=\"text-align: right;\"> 0.810128</td><td style=\"text-align: right;\">        0</td><td style=\"text-align: right;\">        0</td><td style=\"text-align: right;\">        0</td><td style=\"text-align: right;\">         0</td><td style=\"text-align: right;\">           0</td><td style=\"text-align: right;\">        0</td><td style=\"text-align: right;\">      1</td><td style=\"text-align: right;\">          177</td></tr>\n",
       "<tr><td style=\"text-align: right;\">        0</td><td style=\"text-align: right;\">           0</td><td style=\"text-align: right;\">-1.38935</td><td style=\"text-align: right;\">           0</td><td style=\"text-align: right;\">        0</td><td style=\"text-align: right;\">           0</td><td style=\"text-align: right;\">           1</td><td style=\"text-align: right;\">-0.131334</td><td style=\"text-align: right;\">         0</td><td style=\"text-align: right;\">      1</td><td style=\"text-align: right;\">         0</td><td style=\"text-align: right;\">        1</td><td style=\"text-align: right;\">           0</td><td style=\"text-align: right;\">           0</td><td style=\"text-align: right;\">           0</td><td style=\"text-align: right;\">         1</td><td style=\"text-align: right;\">        0</td><td style=\"text-align: right;\"> 2.22764 </td><td style=\"text-align: right;\">        0</td><td style=\"text-align: right;\"> 0.810128</td><td style=\"text-align: right;\">        0</td><td style=\"text-align: right;\">        0</td><td style=\"text-align: right;\">        0</td><td style=\"text-align: right;\">         0</td><td style=\"text-align: right;\">           1</td><td style=\"text-align: right;\">        0</td><td style=\"text-align: right;\">      0</td><td style=\"text-align: right;\">          230</td></tr>\n",
       "<tr><td style=\"text-align: right;\">        0</td><td style=\"text-align: right;\">           0</td><td style=\"text-align: right;\">-1.38935</td><td style=\"text-align: right;\">           0</td><td style=\"text-align: right;\">        0</td><td style=\"text-align: right;\">           0</td><td style=\"text-align: right;\">           1</td><td style=\"text-align: right;\">-0.131334</td><td style=\"text-align: right;\">         0</td><td style=\"text-align: right;\">      1</td><td style=\"text-align: right;\">         0</td><td style=\"text-align: right;\">        1</td><td style=\"text-align: right;\">           0</td><td style=\"text-align: right;\">           0</td><td style=\"text-align: right;\">           0</td><td style=\"text-align: right;\">         1</td><td style=\"text-align: right;\">        0</td><td style=\"text-align: right;\"> 2.22764 </td><td style=\"text-align: right;\">        0</td><td style=\"text-align: right;\"> 0.810128</td><td style=\"text-align: right;\">        0</td><td style=\"text-align: right;\">        0</td><td style=\"text-align: right;\">        0</td><td style=\"text-align: right;\">         0</td><td style=\"text-align: right;\">           1</td><td style=\"text-align: right;\">        0</td><td style=\"text-align: right;\">      0</td><td style=\"text-align: right;\">          410</td></tr>\n",
       "<tr><td style=\"text-align: right;\">        0</td><td style=\"text-align: right;\">           0</td><td style=\"text-align: right;\">-1.38935</td><td style=\"text-align: right;\">           0</td><td style=\"text-align: right;\">        0</td><td style=\"text-align: right;\">           0</td><td style=\"text-align: right;\">           1</td><td style=\"text-align: right;\">-0.131334</td><td style=\"text-align: right;\">         0</td><td style=\"text-align: right;\">      1</td><td style=\"text-align: right;\">         0</td><td style=\"text-align: right;\">        1</td><td style=\"text-align: right;\">           0</td><td style=\"text-align: right;\">           0</td><td style=\"text-align: right;\">           0</td><td style=\"text-align: right;\">         1</td><td style=\"text-align: right;\">        0</td><td style=\"text-align: right;\"> 2.22764 </td><td style=\"text-align: right;\">        0</td><td style=\"text-align: right;\"> 0.810128</td><td style=\"text-align: right;\">        0</td><td style=\"text-align: right;\">        0</td><td style=\"text-align: right;\">        0</td><td style=\"text-align: right;\">         0</td><td style=\"text-align: right;\">           1</td><td style=\"text-align: right;\">        0</td><td style=\"text-align: right;\">      0</td><td style=\"text-align: right;\">          486</td></tr>\n",
       "</tbody>\n",
       "</table>"
      ]
     },
     "metadata": {},
     "output_type": "display_data"
    },
    {
     "data": {
      "text/plain": []
     },
     "execution_count": 214,
     "metadata": {},
     "output_type": "execute_result"
    }
   ],
   "source": [
    "train.head()"
   ]
  },
  {
   "cell_type": "code",
   "execution_count": 215,
   "metadata": {},
   "outputs": [],
   "source": [
    "train = train.drop('PassengerId',axis=1)"
   ]
  },
  {
   "cell_type": "code",
   "execution_count": 216,
   "metadata": {},
   "outputs": [],
   "source": [
    "#identify predictors and labels\n",
    "x = train.columns\n",
    "y = 'Survived'\n",
    "x.remove(y)"
   ]
  },
  {
   "cell_type": "code",
   "execution_count": 217,
   "metadata": {},
   "outputs": [],
   "source": [
    "#for binary classification, lables should be a factor\n",
    "train[y] = train[y].asfactor()"
   ]
  },
  {
   "cell_type": "code",
   "execution_count": 218,
   "metadata": {},
   "outputs": [
    {
     "name": "stdout",
     "output_type": "stream",
     "text": [
      "AutoML progress: |████████████████████████████████████████████████████████| 100%\n"
     ]
    }
   ],
   "source": [
    "# Run AutoML for 30 seconds\n",
    "aml_ti = H2OAutoML(max_runtime_secs= 120, max_models= 10,seed =7,nfolds=10)\n",
    "aml_ti.train(x = x, y = y,\n",
    "          training_frame = train)"
   ]
  },
  {
   "cell_type": "code",
   "execution_count": 219,
   "metadata": {},
   "outputs": [
    {
     "data": {
      "text/html": [
       "<table>\n",
       "<thead>\n",
       "<tr><th>model_id                                             </th><th style=\"text-align: right;\">     auc</th><th style=\"text-align: right;\">  logloss</th><th style=\"text-align: right;\">  mean_per_class_error</th><th style=\"text-align: right;\">    rmse</th><th style=\"text-align: right;\">     mse</th></tr>\n",
       "</thead>\n",
       "<tbody>\n",
       "<tr><td>StackedEnsemble_AllModels_0_AutoML_20180909_162141   </td><td style=\"text-align: right;\">0.872139</td><td style=\"text-align: right;\"> 0.413024</td><td style=\"text-align: right;\">              0.189887</td><td style=\"text-align: right;\">0.358654</td><td style=\"text-align: right;\">0.128633</td></tr>\n",
       "<tr><td>GBM_grid_0_AutoML_20180909_162141_model_5            </td><td style=\"text-align: right;\">0.871655</td><td style=\"text-align: right;\"> 0.59909 </td><td style=\"text-align: right;\">              0.191948</td><td style=\"text-align: right;\">0.452533</td><td style=\"text-align: right;\">0.204786</td></tr>\n",
       "<tr><td>StackedEnsemble_BestOfFamily_0_AutoML_20180909_162141</td><td style=\"text-align: right;\">0.870844</td><td style=\"text-align: right;\"> 0.415137</td><td style=\"text-align: right;\">              0.182208</td><td style=\"text-align: right;\">0.359886</td><td style=\"text-align: right;\">0.129518</td></tr>\n",
       "<tr><td>GBM_grid_0_AutoML_20180909_162141_model_2            </td><td style=\"text-align: right;\">0.869166</td><td style=\"text-align: right;\"> 0.416716</td><td style=\"text-align: right;\">              0.187244</td><td style=\"text-align: right;\">0.357721</td><td style=\"text-align: right;\">0.127965</td></tr>\n",
       "<tr><td>GBM_grid_0_AutoML_20180909_162141_model_0            </td><td style=\"text-align: right;\">0.867564</td><td style=\"text-align: right;\"> 0.422339</td><td style=\"text-align: right;\">              0.183423</td><td style=\"text-align: right;\">0.361858</td><td style=\"text-align: right;\">0.130941</td></tr>\n",
       "<tr><td>GBM_grid_0_AutoML_20180909_162141_model_3            </td><td style=\"text-align: right;\">0.866963</td><td style=\"text-align: right;\"> 0.422539</td><td style=\"text-align: right;\">              0.193792</td><td style=\"text-align: right;\">0.360322</td><td style=\"text-align: right;\">0.129832</td></tr>\n",
       "<tr><td>GBM_grid_0_AutoML_20180909_162141_model_1            </td><td style=\"text-align: right;\">0.865579</td><td style=\"text-align: right;\"> 0.420173</td><td style=\"text-align: right;\">              0.189705</td><td style=\"text-align: right;\">0.359532</td><td style=\"text-align: right;\">0.129263</td></tr>\n",
       "<tr><td>XRT_0_AutoML_20180909_162141                         </td><td style=\"text-align: right;\">0.863174</td><td style=\"text-align: right;\"> 0.745563</td><td style=\"text-align: right;\">              0.202152</td><td style=\"text-align: right;\">0.372539</td><td style=\"text-align: right;\">0.138785</td></tr>\n",
       "<tr><td>DRF_0_AutoML_20180909_162141                         </td><td style=\"text-align: right;\">0.856154</td><td style=\"text-align: right;\"> 0.8861  </td><td style=\"text-align: right;\">              0.207139</td><td style=\"text-align: right;\">0.377264</td><td style=\"text-align: right;\">0.142328</td></tr>\n",
       "<tr><td>GLM_grid_0_AutoML_20180909_162141_model_0            </td><td style=\"text-align: right;\">0.854939</td><td style=\"text-align: right;\"> 0.441901</td><td style=\"text-align: right;\">              0.195039</td><td style=\"text-align: right;\">0.372898</td><td style=\"text-align: right;\">0.139053</td></tr>\n",
       "</tbody>\n",
       "</table>"
      ]
     },
     "metadata": {},
     "output_type": "display_data"
    },
    {
     "data": {
      "text/plain": []
     },
     "execution_count": 219,
     "metadata": {},
     "output_type": "execute_result"
    }
   ],
   "source": [
    "#check the leaderboard for titanic dataset\n",
    "lb_ti = aml_ti.leaderboard\n",
    "lb_ti"
   ]
  },
  {
   "cell_type": "markdown",
   "metadata": {},
   "source": [
    "## Explore these models\n"
   ]
  },
  {
   "cell_type": "code",
   "execution_count": 27,
   "metadata": {},
   "outputs": [],
   "source": [
    "#get model ids for all models in AutoML leaderboard\n",
    "model_ids = list(aml_ti.leaderboard['model_id'].as_data_frame().iloc[:,0])\n",
    "# Get the \"All Models\" Stacked Ensemble model\n",
    "#se = h2o.get_model([mid for mid in model_ids if \"StackedEnsemble_AllModels\" in mid][0])\n",
    "# Get the Stacked Ensemble metalearner model\n",
    "#metalearner = h2o.get_model(aml_ti.leader.metalearner()['name'])"
   ]
  },
  {
   "cell_type": "code",
   "execution_count": 28,
   "metadata": {},
   "outputs": [
    {
     "data": {
      "text/plain": [
       "['GBM_grid_0_AutoML_20180909_114410_model_9',\n",
       " 'StackedEnsemble_BestOfFamily_0_AutoML_20180909_114410',\n",
       " 'GBM_grid_0_AutoML_20180909_115612_model_3',\n",
       " 'GBM_grid_0_AutoML_20180909_115612_model_1',\n",
       " 'GBM_grid_0_AutoML_20180909_115612_model_2',\n",
       " 'GBM_grid_0_AutoML_20180909_115612_model_8',\n",
       " 'StackedEnsemble_AllModels_0_AutoML_20180909_115612',\n",
       " 'GBM_grid_0_AutoML_20180909_115612_model_0',\n",
       " 'StackedEnsemble_AllModels_0_AutoML_20180909_114410',\n",
       " 'GBM_grid_0_AutoML_20180909_114410_model_1',\n",
       " 'GBM_grid_0_AutoML_20180909_115612_model_11',\n",
       " 'DeepLearning_grid_0_AutoML_20180909_114410_model_1',\n",
       " 'GBM_grid_0_AutoML_20180909_114410_model_3',\n",
       " 'XRT_0_AutoML_20180909_114410',\n",
       " 'GBM_grid_0_AutoML_20180909_114410_model_2',\n",
       " 'GBM_grid_0_AutoML_20180909_114410_model_0',\n",
       " 'GLM_grid_0_AutoML_20180909_114410_model_0',\n",
       " 'GLM_grid_0_AutoML_20180909_115612_model_0',\n",
       " 'DeepLearning_0_AutoML_20180909_115612',\n",
       " 'DRF_0_AutoML_20180909_114410',\n",
       " 'DeepLearning_grid_0_AutoML_20180909_114410_model_0',\n",
       " 'DRF_0_AutoML_20180909_115612',\n",
       " 'GBM_grid_0_AutoML_20180909_114410_model_7',\n",
       " 'XRT_0_AutoML_20180909_115612',\n",
       " 'GBM_grid_0_AutoML_20180909_115612_model_6',\n",
       " 'GBM_grid_0_AutoML_20180909_115612_model_9',\n",
       " 'GBM_grid_0_AutoML_20180909_114410_model_6',\n",
       " 'GBM_grid_0_AutoML_20180909_114410_model_5',\n",
       " 'GBM_grid_0_AutoML_20180909_114410_model_4',\n",
       " 'GBM_grid_0_AutoML_20180909_115612_model_4',\n",
       " 'DeepLearning_0_AutoML_20180909_114410',\n",
       " 'GBM_grid_0_AutoML_20180909_115612_model_5',\n",
       " 'GBM_grid_0_AutoML_20180909_115612_model_7',\n",
       " 'DeepLearning_grid_0_AutoML_20180909_115612_model_0',\n",
       " 'DeepLearning_grid_0_AutoML_20180909_114410_model_2',\n",
       " 'GBM_grid_0_AutoML_20180909_115612_model_10',\n",
       " 'DeepLearning_grid_0_AutoML_20180909_115612_model_1',\n",
       " 'GBM_grid_0_AutoML_20180909_114410_model_8']"
      ]
     },
     "execution_count": 28,
     "metadata": {},
     "output_type": "execute_result"
    }
   ],
   "source": [
    "model_ids"
   ]
  },
  {
   "cell_type": "code",
   "execution_count": 110,
   "metadata": {},
   "outputs": [],
   "source": [
    "#ti_gbm = h2o.get_model('GBM_grid_0_AutoML_20180909_124143_model_0')"
   ]
  },
  {
   "cell_type": "code",
   "execution_count": 220,
   "metadata": {},
   "outputs": [],
   "source": [
    "ti_gbm = h2o.get_model('StackedEnsemble_AllModels_0_AutoML_20180909_162141')\n"
   ]
  },
  {
   "cell_type": "code",
   "execution_count": 221,
   "metadata": {},
   "outputs": [
    {
     "name": "stdout",
     "output_type": "stream",
     "text": [
      "Model Details\n",
      "=============\n",
      "H2OStackedEnsembleEstimator :  Stacked Ensemble\n",
      "Model Key:  StackedEnsemble_AllModels_0_AutoML_20180909_162141\n",
      "No model summary for this model\n",
      "\n",
      "\n",
      "ModelMetricsBinomialGLM: stackedensemble\n",
      "** Reported on train data. **\n",
      "\n",
      "MSE: 0.07192343287627416\n",
      "RMSE: 0.2681854449374055\n",
      "LogLoss: 0.2615532311441026\n",
      "Null degrees of freedom: 724\n",
      "Residual degrees of freedom: 719\n",
      "Null deviance: 963.3810684708639\n",
      "Residual deviance: 379.2521851589487\n",
      "AIC: 391.2521851589487\n",
      "AUC: 0.9669152060940577\n",
      "Gini: 0.9338304121881154\n",
      "Confusion Matrix (Act/Pred) for max f1 @ threshold = 0.36881771926006945: \n"
     ]
    },
    {
     "data": {
      "text/html": [
       "<div style=\"overflow:auto\"><table style=\"width:50%\"><tr><td><b></b></td>\n",
       "<td><b>0</b></td>\n",
       "<td><b>1</b></td>\n",
       "<td><b>Error</b></td>\n",
       "<td><b>Rate</b></td></tr>\n",
       "<tr><td>0</td>\n",
       "<td>418.0</td>\n",
       "<td>31.0</td>\n",
       "<td>0.069</td>\n",
       "<td> (31.0/449.0)</td></tr>\n",
       "<tr><td>1</td>\n",
       "<td>32.0</td>\n",
       "<td>244.0</td>\n",
       "<td>0.1159</td>\n",
       "<td> (32.0/276.0)</td></tr>\n",
       "<tr><td>Total</td>\n",
       "<td>450.0</td>\n",
       "<td>275.0</td>\n",
       "<td>0.0869</td>\n",
       "<td> (63.0/725.0)</td></tr></table></div>"
      ],
      "text/plain": [
       "       0    1    Error    Rate\n",
       "-----  ---  ---  -------  ------------\n",
       "0      418  31   0.069    (31.0/449.0)\n",
       "1      32   244  0.1159   (32.0/276.0)\n",
       "Total  450  275  0.0869   (63.0/725.0)"
      ]
     },
     "metadata": {},
     "output_type": "display_data"
    },
    {
     "name": "stdout",
     "output_type": "stream",
     "text": [
      "Maximum Metrics: Maximum metrics at their respective thresholds\n",
      "\n"
     ]
    },
    {
     "data": {
      "text/html": [
       "<div style=\"overflow:auto\"><table style=\"width:50%\"><tr><td><b>metric</b></td>\n",
       "<td><b>threshold</b></td>\n",
       "<td><b>value</b></td>\n",
       "<td><b>idx</b></td></tr>\n",
       "<tr><td>max f1</td>\n",
       "<td>0.3688177</td>\n",
       "<td>0.8856624</td>\n",
       "<td>190.0</td></tr>\n",
       "<tr><td>max f2</td>\n",
       "<td>0.1660424</td>\n",
       "<td>0.9081633</td>\n",
       "<td>261.0</td></tr>\n",
       "<tr><td>max f0point5</td>\n",
       "<td>0.7379480</td>\n",
       "<td>0.9166667</td>\n",
       "<td>123.0</td></tr>\n",
       "<tr><td>max accuracy</td>\n",
       "<td>0.4380796</td>\n",
       "<td>0.9131034</td>\n",
       "<td>172.0</td></tr>\n",
       "<tr><td>max precision</td>\n",
       "<td>0.9549840</td>\n",
       "<td>1.0</td>\n",
       "<td>0.0</td></tr>\n",
       "<tr><td>max recall</td>\n",
       "<td>0.0829644</td>\n",
       "<td>1.0</td>\n",
       "<td>362.0</td></tr>\n",
       "<tr><td>max specificity</td>\n",
       "<td>0.9549840</td>\n",
       "<td>1.0</td>\n",
       "<td>0.0</td></tr>\n",
       "<tr><td>max absolute_mcc</td>\n",
       "<td>0.3688177</td>\n",
       "<td>0.8155884</td>\n",
       "<td>190.0</td></tr>\n",
       "<tr><td>max min_per_class_accuracy</td>\n",
       "<td>0.2859996</td>\n",
       "<td>0.8975501</td>\n",
       "<td>207.0</td></tr>\n",
       "<tr><td>max mean_per_class_accuracy</td>\n",
       "<td>0.3688177</td>\n",
       "<td>0.9075078</td>\n",
       "<td>190.0</td></tr></table></div>"
      ],
      "text/plain": [
       "metric                       threshold    value     idx\n",
       "---------------------------  -----------  --------  -----\n",
       "max f1                       0.368818     0.885662  190\n",
       "max f2                       0.166042     0.908163  261\n",
       "max f0point5                 0.737948     0.916667  123\n",
       "max accuracy                 0.43808      0.913103  172\n",
       "max precision                0.954984     1         0\n",
       "max recall                   0.0829644    1         362\n",
       "max specificity              0.954984     1         0\n",
       "max absolute_mcc             0.368818     0.815588  190\n",
       "max min_per_class_accuracy   0.286        0.89755   207\n",
       "max mean_per_class_accuracy  0.368818     0.907508  190"
      ]
     },
     "metadata": {},
     "output_type": "display_data"
    },
    {
     "name": "stdout",
     "output_type": "stream",
     "text": [
      "Gains/Lift Table: Avg response rate: 38.07 %, avg score: 37.69 %\n",
      "\n"
     ]
    },
    {
     "data": {
      "text/html": [
       "<div style=\"overflow:auto\"><table style=\"width:50%\"><tr><td><b></b></td>\n",
       "<td><b>group</b></td>\n",
       "<td><b>cumulative_data_fraction</b></td>\n",
       "<td><b>lower_threshold</b></td>\n",
       "<td><b>lift</b></td>\n",
       "<td><b>cumulative_lift</b></td>\n",
       "<td><b>response_rate</b></td>\n",
       "<td><b>score</b></td>\n",
       "<td><b>cumulative_response_rate</b></td>\n",
       "<td><b>cumulative_score</b></td>\n",
       "<td><b>capture_rate</b></td>\n",
       "<td><b>cumulative_capture_rate</b></td>\n",
       "<td><b>gain</b></td>\n",
       "<td><b>cumulative_gain</b></td></tr>\n",
       "<tr><td></td>\n",
       "<td>1</td>\n",
       "<td>0.0110345</td>\n",
       "<td>0.9462350</td>\n",
       "<td>2.6268116</td>\n",
       "<td>2.6268116</td>\n",
       "<td>1.0</td>\n",
       "<td>0.9503607</td>\n",
       "<td>1.0</td>\n",
       "<td>0.9503607</td>\n",
       "<td>0.0289855</td>\n",
       "<td>0.0289855</td>\n",
       "<td>162.6811594</td>\n",
       "<td>162.6811594</td></tr>\n",
       "<tr><td></td>\n",
       "<td>2</td>\n",
       "<td>0.0206897</td>\n",
       "<td>0.9445749</td>\n",
       "<td>2.6268116</td>\n",
       "<td>2.6268116</td>\n",
       "<td>1.0</td>\n",
       "<td>0.9452382</td>\n",
       "<td>1.0</td>\n",
       "<td>0.9479702</td>\n",
       "<td>0.0253623</td>\n",
       "<td>0.0543478</td>\n",
       "<td>162.6811594</td>\n",
       "<td>162.6811594</td></tr>\n",
       "<tr><td></td>\n",
       "<td>3</td>\n",
       "<td>0.0303448</td>\n",
       "<td>0.9432483</td>\n",
       "<td>2.6268116</td>\n",
       "<td>2.6268116</td>\n",
       "<td>1.0</td>\n",
       "<td>0.9438061</td>\n",
       "<td>1.0</td>\n",
       "<td>0.9466453</td>\n",
       "<td>0.0253623</td>\n",
       "<td>0.0797101</td>\n",
       "<td>162.6811594</td>\n",
       "<td>162.6811594</td></tr>\n",
       "<tr><td></td>\n",
       "<td>4</td>\n",
       "<td>0.04</td>\n",
       "<td>0.9404597</td>\n",
       "<td>2.6268116</td>\n",
       "<td>2.6268116</td>\n",
       "<td>1.0</td>\n",
       "<td>0.9416723</td>\n",
       "<td>1.0</td>\n",
       "<td>0.9454449</td>\n",
       "<td>0.0253623</td>\n",
       "<td>0.1050725</td>\n",
       "<td>162.6811594</td>\n",
       "<td>162.6811594</td></tr>\n",
       "<tr><td></td>\n",
       "<td>5</td>\n",
       "<td>0.0510345</td>\n",
       "<td>0.9385797</td>\n",
       "<td>2.6268116</td>\n",
       "<td>2.6268116</td>\n",
       "<td>1.0</td>\n",
       "<td>0.9395360</td>\n",
       "<td>1.0</td>\n",
       "<td>0.9441673</td>\n",
       "<td>0.0289855</td>\n",
       "<td>0.1340580</td>\n",
       "<td>162.6811594</td>\n",
       "<td>162.6811594</td></tr>\n",
       "<tr><td></td>\n",
       "<td>6</td>\n",
       "<td>0.1006897</td>\n",
       "<td>0.9264226</td>\n",
       "<td>2.6268116</td>\n",
       "<td>2.6268116</td>\n",
       "<td>1.0</td>\n",
       "<td>0.9321964</td>\n",
       "<td>1.0</td>\n",
       "<td>0.9382639</td>\n",
       "<td>0.1304348</td>\n",
       "<td>0.2644928</td>\n",
       "<td>162.6811594</td>\n",
       "<td>162.6811594</td></tr>\n",
       "<tr><td></td>\n",
       "<td>7</td>\n",
       "<td>0.1503448</td>\n",
       "<td>0.9081060</td>\n",
       "<td>2.6268116</td>\n",
       "<td>2.6268116</td>\n",
       "<td>1.0</td>\n",
       "<td>0.9180582</td>\n",
       "<td>1.0</td>\n",
       "<td>0.9315904</td>\n",
       "<td>0.1304348</td>\n",
       "<td>0.3949275</td>\n",
       "<td>162.6811594</td>\n",
       "<td>162.6811594</td></tr>\n",
       "<tr><td></td>\n",
       "<td>8</td>\n",
       "<td>0.2</td>\n",
       "<td>0.8400168</td>\n",
       "<td>2.6268116</td>\n",
       "<td>2.6268116</td>\n",
       "<td>1.0</td>\n",
       "<td>0.8756193</td>\n",
       "<td>1.0</td>\n",
       "<td>0.9176941</td>\n",
       "<td>0.1304348</td>\n",
       "<td>0.5253623</td>\n",
       "<td>162.6811594</td>\n",
       "<td>162.6811594</td></tr>\n",
       "<tr><td></td>\n",
       "<td>9</td>\n",
       "<td>0.3006897</td>\n",
       "<td>0.6498156</td>\n",
       "<td>2.3029581</td>\n",
       "<td>2.5183652</td>\n",
       "<td>0.8767123</td>\n",
       "<td>0.7690041</td>\n",
       "<td>0.9587156</td>\n",
       "<td>0.8679034</td>\n",
       "<td>0.2318841</td>\n",
       "<td>0.7572464</td>\n",
       "<td>130.2958110</td>\n",
       "<td>151.8365244</td></tr>\n",
       "<tr><td></td>\n",
       "<td>10</td>\n",
       "<td>0.4</td>\n",
       "<td>0.2982475</td>\n",
       "<td>1.3498893</td>\n",
       "<td>2.2282609</td>\n",
       "<td>0.5138889</td>\n",
       "<td>0.4558363</td>\n",
       "<td>0.8482759</td>\n",
       "<td>0.7655971</td>\n",
       "<td>0.1340580</td>\n",
       "<td>0.8913043</td>\n",
       "<td>34.9889291</td>\n",
       "<td>122.8260870</td></tr>\n",
       "<tr><td></td>\n",
       "<td>11</td>\n",
       "<td>0.5006897</td>\n",
       "<td>0.1674133</td>\n",
       "<td>0.6836907</td>\n",
       "<td>1.9176448</td>\n",
       "<td>0.2602740</td>\n",
       "<td>0.2190756</td>\n",
       "<td>0.7300275</td>\n",
       "<td>0.6556906</td>\n",
       "<td>0.0688406</td>\n",
       "<td>0.9601449</td>\n",
       "<td>-31.6309311</td>\n",
       "<td>91.7644828</td></tr>\n",
       "<tr><td></td>\n",
       "<td>12</td>\n",
       "<td>0.6</td>\n",
       "<td>0.1163847</td>\n",
       "<td>0.2553845</td>\n",
       "<td>1.6425121</td>\n",
       "<td>0.0972222</td>\n",
       "<td>0.1425904</td>\n",
       "<td>0.6252874</td>\n",
       "<td>0.5707636</td>\n",
       "<td>0.0253623</td>\n",
       "<td>0.9855072</td>\n",
       "<td>-74.4615539</td>\n",
       "<td>64.2512077</td></tr>\n",
       "<tr><td></td>\n",
       "<td>13</td>\n",
       "<td>0.6993103</td>\n",
       "<td>0.0957502</td>\n",
       "<td>0.1094505</td>\n",
       "<td>1.4247992</td>\n",
       "<td>0.0416667</td>\n",
       "<td>0.1042728</td>\n",
       "<td>0.5424063</td>\n",
       "<td>0.5045164</td>\n",
       "<td>0.0108696</td>\n",
       "<td>0.9963768</td>\n",
       "<td>-89.0549517</td>\n",
       "<td>42.4799188</td></tr>\n",
       "<tr><td></td>\n",
       "<td>14</td>\n",
       "<td>0.8013793</td>\n",
       "<td>0.0835512</td>\n",
       "<td>0.0</td>\n",
       "<td>1.2433273</td>\n",
       "<td>0.0</td>\n",
       "<td>0.0889950</td>\n",
       "<td>0.4733219</td>\n",
       "<td>0.4515929</td>\n",
       "<td>0.0</td>\n",
       "<td>0.9963768</td>\n",
       "<td>-100.0</td>\n",
       "<td>24.3327347</td></tr>\n",
       "<tr><td></td>\n",
       "<td>15</td>\n",
       "<td>0.9062069</td>\n",
       "<td>0.0768857</td>\n",
       "<td>0.0345633</td>\n",
       "<td>1.1035008</td>\n",
       "<td>0.0131579</td>\n",
       "<td>0.0795968</td>\n",
       "<td>0.4200913</td>\n",
       "<td>0.4085614</td>\n",
       "<td>0.0036232</td>\n",
       "<td>1.0</td>\n",
       "<td>-96.5436690</td>\n",
       "<td>10.3500761</td></tr>\n",
       "<tr><td></td>\n",
       "<td>16</td>\n",
       "<td>1.0</td>\n",
       "<td>0.0610648</td>\n",
       "<td>0.0</td>\n",
       "<td>1.0</td>\n",
       "<td>0.0</td>\n",
       "<td>0.0711930</td>\n",
       "<td>0.3806897</td>\n",
       "<td>0.3769185</td>\n",
       "<td>0.0</td>\n",
       "<td>1.0</td>\n",
       "<td>-100.0</td>\n",
       "<td>0.0</td></tr></table></div>"
      ],
      "text/plain": [
       "    group    cumulative_data_fraction    lower_threshold    lift       cumulative_lift    response_rate    score      cumulative_response_rate    cumulative_score    capture_rate    cumulative_capture_rate    gain      cumulative_gain\n",
       "--  -------  --------------------------  -----------------  ---------  -----------------  ---------------  ---------  --------------------------  ------------------  --------------  -------------------------  --------  -----------------\n",
       "    1        0.0110345                   0.946235           2.62681    2.62681            1                0.950361   1                           0.950361            0.0289855       0.0289855                  162.681   162.681\n",
       "    2        0.0206897                   0.944575           2.62681    2.62681            1                0.945238   1                           0.94797             0.0253623       0.0543478                  162.681   162.681\n",
       "    3        0.0303448                   0.943248           2.62681    2.62681            1                0.943806   1                           0.946645            0.0253623       0.0797101                  162.681   162.681\n",
       "    4        0.04                        0.94046            2.62681    2.62681            1                0.941672   1                           0.945445            0.0253623       0.105072                   162.681   162.681\n",
       "    5        0.0510345                   0.93858            2.62681    2.62681            1                0.939536   1                           0.944167            0.0289855       0.134058                   162.681   162.681\n",
       "    6        0.10069                     0.926423           2.62681    2.62681            1                0.932196   1                           0.938264            0.130435        0.264493                   162.681   162.681\n",
       "    7        0.150345                    0.908106           2.62681    2.62681            1                0.918058   1                           0.93159             0.130435        0.394928                   162.681   162.681\n",
       "    8        0.2                         0.840017           2.62681    2.62681            1                0.875619   1                           0.917694            0.130435        0.525362                   162.681   162.681\n",
       "    9        0.30069                     0.649816           2.30296    2.51837            0.876712         0.769004   0.958716                    0.867903            0.231884        0.757246                   130.296   151.837\n",
       "    10       0.4                         0.298248           1.34989    2.22826            0.513889         0.455836   0.848276                    0.765597            0.134058        0.891304                   34.9889   122.826\n",
       "    11       0.50069                     0.167413           0.683691   1.91764            0.260274         0.219076   0.730028                    0.655691            0.0688406       0.960145                   -31.6309  91.7645\n",
       "    12       0.6                         0.116385           0.255384   1.64251            0.0972222        0.14259    0.625287                    0.570764            0.0253623       0.985507                   -74.4616  64.2512\n",
       "    13       0.69931                     0.0957502          0.10945    1.4248             0.0416667        0.104273   0.542406                    0.504516            0.0108696       0.996377                   -89.055   42.4799\n",
       "    14       0.801379                    0.0835512          0          1.24333            0                0.088995   0.473322                    0.451593            0               0.996377                   -100      24.3327\n",
       "    15       0.906207                    0.0768857          0.0345633  1.1035             0.0131579        0.0795968  0.420091                    0.408561            0.00362319      1                          -96.5437  10.3501\n",
       "    16       1                           0.0610648          0          1                  0                0.071193   0.38069                     0.376919            0               1                          -100      0"
      ]
     },
     "metadata": {},
     "output_type": "display_data"
    },
    {
     "name": "stdout",
     "output_type": "stream",
     "text": [
      "\n",
      "\n",
      "ModelMetricsBinomialGLM: stackedensemble\n",
      "** Reported on validation data. **\n",
      "\n",
      "MSE: 0.12006052100778371\n",
      "RMSE: 0.3464975050527546\n",
      "LogLoss: 0.39695653941505793\n",
      "Null degrees of freedom: 165\n",
      "Residual degrees of freedom: 160\n",
      "Null deviance: 223.31149758863717\n",
      "Residual deviance: 131.7895710857992\n",
      "AIC: 143.7895710857992\n",
      "AUC: 0.874090909090909\n",
      "Gini: 0.7481818181818181\n",
      "Confusion Matrix (Act/Pred) for max f1 @ threshold = 0.4607970959071769: \n"
     ]
    },
    {
     "data": {
      "text/html": [
       "<div style=\"overflow:auto\"><table style=\"width:50%\"><tr><td><b></b></td>\n",
       "<td><b>0</b></td>\n",
       "<td><b>1</b></td>\n",
       "<td><b>Error</b></td>\n",
       "<td><b>Rate</b></td></tr>\n",
       "<tr><td>0</td>\n",
       "<td>90.0</td>\n",
       "<td>10.0</td>\n",
       "<td>0.1</td>\n",
       "<td> (10.0/100.0)</td></tr>\n",
       "<tr><td>1</td>\n",
       "<td>14.0</td>\n",
       "<td>52.0</td>\n",
       "<td>0.2121</td>\n",
       "<td> (14.0/66.0)</td></tr>\n",
       "<tr><td>Total</td>\n",
       "<td>104.0</td>\n",
       "<td>62.0</td>\n",
       "<td>0.1446</td>\n",
       "<td> (24.0/166.0)</td></tr></table></div>"
      ],
      "text/plain": [
       "       0    1    Error    Rate\n",
       "-----  ---  ---  -------  ------------\n",
       "0      90   10   0.1      (10.0/100.0)\n",
       "1      14   52   0.2121   (14.0/66.0)\n",
       "Total  104  62   0.1446   (24.0/166.0)"
      ]
     },
     "metadata": {},
     "output_type": "display_data"
    },
    {
     "name": "stdout",
     "output_type": "stream",
     "text": [
      "Maximum Metrics: Maximum metrics at their respective thresholds\n",
      "\n"
     ]
    },
    {
     "data": {
      "text/html": [
       "<div style=\"overflow:auto\"><table style=\"width:50%\"><tr><td><b>metric</b></td>\n",
       "<td><b>threshold</b></td>\n",
       "<td><b>value</b></td>\n",
       "<td><b>idx</b></td></tr>\n",
       "<tr><td>max f1</td>\n",
       "<td>0.4607971</td>\n",
       "<td>0.8125</td>\n",
       "<td>59.0</td></tr>\n",
       "<tr><td>max f2</td>\n",
       "<td>0.1580049</td>\n",
       "<td>0.8333333</td>\n",
       "<td>85.0</td></tr>\n",
       "<tr><td>max f0point5</td>\n",
       "<td>0.5584294</td>\n",
       "<td>0.8391608</td>\n",
       "<td>52.0</td></tr>\n",
       "<tr><td>max accuracy</td>\n",
       "<td>0.5422371</td>\n",
       "<td>0.8554217</td>\n",
       "<td>55.0</td></tr>\n",
       "<tr><td>max precision</td>\n",
       "<td>0.9515340</td>\n",
       "<td>1.0</td>\n",
       "<td>0.0</td></tr>\n",
       "<tr><td>max recall</td>\n",
       "<td>0.0733551</td>\n",
       "<td>1.0</td>\n",
       "<td>151.0</td></tr>\n",
       "<tr><td>max specificity</td>\n",
       "<td>0.9515340</td>\n",
       "<td>1.0</td>\n",
       "<td>0.0</td></tr>\n",
       "<tr><td>max absolute_mcc</td>\n",
       "<td>0.4607971</td>\n",
       "<td>0.6959393</td>\n",
       "<td>59.0</td></tr>\n",
       "<tr><td>max min_per_class_accuracy</td>\n",
       "<td>0.3955389</td>\n",
       "<td>0.8181818</td>\n",
       "<td>64.0</td></tr>\n",
       "<tr><td>max mean_per_class_accuracy</td>\n",
       "<td>0.3955389</td>\n",
       "<td>0.8440909</td>\n",
       "<td>64.0</td></tr></table></div>"
      ],
      "text/plain": [
       "metric                       threshold    value     idx\n",
       "---------------------------  -----------  --------  -----\n",
       "max f1                       0.460797     0.8125    59\n",
       "max f2                       0.158005     0.833333  85\n",
       "max f0point5                 0.558429     0.839161  52\n",
       "max accuracy                 0.542237     0.855422  55\n",
       "max precision                0.951534     1         0\n",
       "max recall                   0.0733551    1         151\n",
       "max specificity              0.951534     1         0\n",
       "max absolute_mcc             0.460797     0.695939  59\n",
       "max min_per_class_accuracy   0.395539     0.818182  64\n",
       "max mean_per_class_accuracy  0.395539     0.844091  64"
      ]
     },
     "metadata": {},
     "output_type": "display_data"
    },
    {
     "name": "stdout",
     "output_type": "stream",
     "text": [
      "Gains/Lift Table: Avg response rate: 39.76 %, avg score: 38.79 %\n",
      "\n"
     ]
    },
    {
     "data": {
      "text/html": [
       "<div style=\"overflow:auto\"><table style=\"width:50%\"><tr><td><b></b></td>\n",
       "<td><b>group</b></td>\n",
       "<td><b>cumulative_data_fraction</b></td>\n",
       "<td><b>lower_threshold</b></td>\n",
       "<td><b>lift</b></td>\n",
       "<td><b>cumulative_lift</b></td>\n",
       "<td><b>response_rate</b></td>\n",
       "<td><b>score</b></td>\n",
       "<td><b>cumulative_response_rate</b></td>\n",
       "<td><b>cumulative_score</b></td>\n",
       "<td><b>capture_rate</b></td>\n",
       "<td><b>cumulative_capture_rate</b></td>\n",
       "<td><b>gain</b></td>\n",
       "<td><b>cumulative_gain</b></td></tr>\n",
       "<tr><td></td>\n",
       "<td>1</td>\n",
       "<td>0.0120482</td>\n",
       "<td>0.9462538</td>\n",
       "<td>2.5151515</td>\n",
       "<td>2.5151515</td>\n",
       "<td>1.0</td>\n",
       "<td>0.9497524</td>\n",
       "<td>1.0</td>\n",
       "<td>0.9497524</td>\n",
       "<td>0.0303030</td>\n",
       "<td>0.0303030</td>\n",
       "<td>151.5151515</td>\n",
       "<td>151.5151515</td></tr>\n",
       "<tr><td></td>\n",
       "<td>2</td>\n",
       "<td>0.0240964</td>\n",
       "<td>0.9441482</td>\n",
       "<td>2.5151515</td>\n",
       "<td>2.5151515</td>\n",
       "<td>1.0</td>\n",
       "<td>0.9451816</td>\n",
       "<td>1.0</td>\n",
       "<td>0.9474670</td>\n",
       "<td>0.0303030</td>\n",
       "<td>0.0606061</td>\n",
       "<td>151.5151515</td>\n",
       "<td>151.5151515</td></tr>\n",
       "<tr><td></td>\n",
       "<td>3</td>\n",
       "<td>0.0301205</td>\n",
       "<td>0.9402417</td>\n",
       "<td>2.5151515</td>\n",
       "<td>2.5151515</td>\n",
       "<td>1.0</td>\n",
       "<td>0.9420812</td>\n",
       "<td>1.0</td>\n",
       "<td>0.9463899</td>\n",
       "<td>0.0151515</td>\n",
       "<td>0.0757576</td>\n",
       "<td>151.5151515</td>\n",
       "<td>151.5151515</td></tr>\n",
       "<tr><td></td>\n",
       "<td>4</td>\n",
       "<td>0.0421687</td>\n",
       "<td>0.9365072</td>\n",
       "<td>2.5151515</td>\n",
       "<td>2.5151515</td>\n",
       "<td>1.0</td>\n",
       "<td>0.9391815</td>\n",
       "<td>1.0</td>\n",
       "<td>0.9443303</td>\n",
       "<td>0.0303030</td>\n",
       "<td>0.1060606</td>\n",
       "<td>151.5151515</td>\n",
       "<td>151.5151515</td></tr>\n",
       "<tr><td></td>\n",
       "<td>5</td>\n",
       "<td>0.0542169</td>\n",
       "<td>0.9340911</td>\n",
       "<td>2.5151515</td>\n",
       "<td>2.5151515</td>\n",
       "<td>1.0</td>\n",
       "<td>0.9348407</td>\n",
       "<td>1.0</td>\n",
       "<td>0.9422215</td>\n",
       "<td>0.0303030</td>\n",
       "<td>0.1363636</td>\n",
       "<td>151.5151515</td>\n",
       "<td>151.5151515</td></tr>\n",
       "<tr><td></td>\n",
       "<td>6</td>\n",
       "<td>0.1024096</td>\n",
       "<td>0.9253856</td>\n",
       "<td>2.2007576</td>\n",
       "<td>2.3672014</td>\n",
       "<td>0.875</td>\n",
       "<td>0.9305264</td>\n",
       "<td>0.9411765</td>\n",
       "<td>0.9367179</td>\n",
       "<td>0.1060606</td>\n",
       "<td>0.2424242</td>\n",
       "<td>120.0757576</td>\n",
       "<td>136.7201426</td></tr>\n",
       "<tr><td></td>\n",
       "<td>7</td>\n",
       "<td>0.1506024</td>\n",
       "<td>0.9000458</td>\n",
       "<td>2.2007576</td>\n",
       "<td>2.3139394</td>\n",
       "<td>0.875</td>\n",
       "<td>0.9146393</td>\n",
       "<td>0.92</td>\n",
       "<td>0.9296528</td>\n",
       "<td>0.1060606</td>\n",
       "<td>0.3484848</td>\n",
       "<td>120.0757576</td>\n",
       "<td>131.3939394</td></tr>\n",
       "<tr><td></td>\n",
       "<td>8</td>\n",
       "<td>0.2048193</td>\n",
       "<td>0.8235162</td>\n",
       "<td>2.5151515</td>\n",
       "<td>2.3672014</td>\n",
       "<td>1.0</td>\n",
       "<td>0.8684307</td>\n",
       "<td>0.9411765</td>\n",
       "<td>0.9134469</td>\n",
       "<td>0.1363636</td>\n",
       "<td>0.4848485</td>\n",
       "<td>151.5151515</td>\n",
       "<td>136.7201426</td></tr>\n",
       "<tr><td></td>\n",
       "<td>9</td>\n",
       "<td>0.3012048</td>\n",
       "<td>0.6204697</td>\n",
       "<td>1.7291667</td>\n",
       "<td>2.1630303</td>\n",
       "<td>0.6875</td>\n",
       "<td>0.7331853</td>\n",
       "<td>0.86</td>\n",
       "<td>0.8557632</td>\n",
       "<td>0.1666667</td>\n",
       "<td>0.6515152</td>\n",
       "<td>72.9166667</td>\n",
       "<td>116.3030303</td></tr>\n",
       "<tr><td></td>\n",
       "<td>10</td>\n",
       "<td>0.4036145</td>\n",
       "<td>0.3955389</td>\n",
       "<td>1.6274510</td>\n",
       "<td>2.0271370</td>\n",
       "<td>0.6470588</td>\n",
       "<td>0.5122044</td>\n",
       "<td>0.8059701</td>\n",
       "<td>0.7685916</td>\n",
       "<td>0.1666667</td>\n",
       "<td>0.8181818</td>\n",
       "<td>62.7450980</td>\n",
       "<td>102.7137042</td></tr>\n",
       "<tr><td></td>\n",
       "<td>11</td>\n",
       "<td>0.5</td>\n",
       "<td>0.1827029</td>\n",
       "<td>0.4715909</td>\n",
       "<td>1.7272727</td>\n",
       "<td>0.1875</td>\n",
       "<td>0.2659559</td>\n",
       "<td>0.6867470</td>\n",
       "<td>0.6716979</td>\n",
       "<td>0.0454545</td>\n",
       "<td>0.8636364</td>\n",
       "<td>-52.8409091</td>\n",
       "<td>72.7272727</td></tr>\n",
       "<tr><td></td>\n",
       "<td>12</td>\n",
       "<td>0.6024096</td>\n",
       "<td>0.1304917</td>\n",
       "<td>0.4438503</td>\n",
       "<td>1.5090909</td>\n",
       "<td>0.1764706</td>\n",
       "<td>0.1544706</td>\n",
       "<td>0.6</td>\n",
       "<td>0.5837693</td>\n",
       "<td>0.0454545</td>\n",
       "<td>0.9090909</td>\n",
       "<td>-55.6149733</td>\n",
       "<td>50.9090909</td></tr>\n",
       "<tr><td></td>\n",
       "<td>13</td>\n",
       "<td>0.6987952</td>\n",
       "<td>0.1026248</td>\n",
       "<td>0.0</td>\n",
       "<td>1.3009404</td>\n",
       "<td>0.0</td>\n",
       "<td>0.1149632</td>\n",
       "<td>0.5172414</td>\n",
       "<td>0.5191064</td>\n",
       "<td>0.0</td>\n",
       "<td>0.9090909</td>\n",
       "<td>-100.0</td>\n",
       "<td>30.0940439</td></tr>\n",
       "<tr><td></td>\n",
       "<td>14</td>\n",
       "<td>0.8012048</td>\n",
       "<td>0.0885050</td>\n",
       "<td>0.1479501</td>\n",
       "<td>1.1535657</td>\n",
       "<td>0.0588235</td>\n",
       "<td>0.0945075</td>\n",
       "<td>0.4586466</td>\n",
       "<td>0.4648343</td>\n",
       "<td>0.0151515</td>\n",
       "<td>0.9242424</td>\n",
       "<td>-85.2049911</td>\n",
       "<td>15.3565733</td></tr>\n",
       "<tr><td></td>\n",
       "<td>15</td>\n",
       "<td>0.8975904</td>\n",
       "<td>0.0775080</td>\n",
       "<td>0.3143939</td>\n",
       "<td>1.0634533</td>\n",
       "<td>0.125</td>\n",
       "<td>0.0825704</td>\n",
       "<td>0.4228188</td>\n",
       "<td>0.4237859</td>\n",
       "<td>0.0303030</td>\n",
       "<td>0.9545455</td>\n",
       "<td>-68.5606061</td>\n",
       "<td>6.3453325</td></tr>\n",
       "<tr><td></td>\n",
       "<td>16</td>\n",
       "<td>1.0</td>\n",
       "<td>0.0690882</td>\n",
       "<td>0.4438503</td>\n",
       "<td>1.0</td>\n",
       "<td>0.1764706</td>\n",
       "<td>0.0738375</td>\n",
       "<td>0.3975904</td>\n",
       "<td>0.3879478</td>\n",
       "<td>0.0454545</td>\n",
       "<td>1.0</td>\n",
       "<td>-55.6149733</td>\n",
       "<td>0.0</td></tr></table></div>"
      ],
      "text/plain": [
       "    group    cumulative_data_fraction    lower_threshold    lift      cumulative_lift    response_rate    score      cumulative_response_rate    cumulative_score    capture_rate    cumulative_capture_rate    gain      cumulative_gain\n",
       "--  -------  --------------------------  -----------------  --------  -----------------  ---------------  ---------  --------------------------  ------------------  --------------  -------------------------  --------  -----------------\n",
       "    1        0.0120482                   0.946254           2.51515   2.51515            1                0.949752   1                           0.949752            0.030303        0.030303                   151.515   151.515\n",
       "    2        0.0240964                   0.944148           2.51515   2.51515            1                0.945182   1                           0.947467            0.030303        0.0606061                  151.515   151.515\n",
       "    3        0.0301205                   0.940242           2.51515   2.51515            1                0.942081   1                           0.94639             0.0151515       0.0757576                  151.515   151.515\n",
       "    4        0.0421687                   0.936507           2.51515   2.51515            1                0.939182   1                           0.94433             0.030303        0.106061                   151.515   151.515\n",
       "    5        0.0542169                   0.934091           2.51515   2.51515            1                0.934841   1                           0.942222            0.030303        0.136364                   151.515   151.515\n",
       "    6        0.10241                     0.925386           2.20076   2.3672             0.875            0.930526   0.941176                    0.936718            0.106061        0.242424                   120.076   136.72\n",
       "    7        0.150602                    0.900046           2.20076   2.31394            0.875            0.914639   0.92                        0.929653            0.106061        0.348485                   120.076   131.394\n",
       "    8        0.204819                    0.823516           2.51515   2.3672             1                0.868431   0.941176                    0.913447            0.136364        0.484848                   151.515   136.72\n",
       "    9        0.301205                    0.62047            1.72917   2.16303            0.6875           0.733185   0.86                        0.855763            0.166667        0.651515                   72.9167   116.303\n",
       "    10       0.403614                    0.395539           1.62745   2.02714            0.647059         0.512204   0.80597                     0.768592            0.166667        0.818182                   62.7451   102.714\n",
       "    11       0.5                         0.182703           0.471591  1.72727            0.1875           0.265956   0.686747                    0.671698            0.0454545       0.863636                   -52.8409  72.7273\n",
       "    12       0.60241                     0.130492           0.44385   1.50909            0.176471         0.154471   0.6                         0.583769            0.0454545       0.909091                   -55.615   50.9091\n",
       "    13       0.698795                    0.102625           0         1.30094            0                0.114963   0.517241                    0.519106            0               0.909091                   -100      30.094\n",
       "    14       0.801205                    0.088505           0.14795   1.15357            0.0588235        0.0945075  0.458647                    0.464834            0.0151515       0.924242                   -85.205   15.3566\n",
       "    15       0.89759                     0.077508           0.314394  1.06345            0.125            0.0825704  0.422819                    0.423786            0.030303        0.954545                   -68.5606  6.34533\n",
       "    16       1                           0.0690882          0.44385   1                  0.176471         0.0738375  0.39759                     0.387948            0.0454545       1                          -55.615   0"
      ]
     },
     "metadata": {},
     "output_type": "display_data"
    },
    {
     "name": "stdout",
     "output_type": "stream",
     "text": [
      "\n",
      "\n",
      "ModelMetricsBinomialGLM: stackedensemble\n",
      "** Reported on cross-validation data. **\n",
      "\n",
      "MSE: 0.1286329078388126\n",
      "RMSE: 0.35865430129696285\n",
      "LogLoss: 0.41302440173291244\n",
      "Null degrees of freedom: 724\n",
      "Residual degrees of freedom: 714\n",
      "Null deviance: 966.7397817530723\n",
      "Residual deviance: 598.885382512723\n",
      "AIC: 620.885382512723\n",
      "AUC: 0.8721393757464252\n",
      "Gini: 0.7442787514928504\n",
      "Confusion Matrix (Act/Pred) for max f1 @ threshold = 0.5493705296768676: \n"
     ]
    },
    {
     "data": {
      "text/html": [
       "<div style=\"overflow:auto\"><table style=\"width:50%\"><tr><td><b></b></td>\n",
       "<td><b>0</b></td>\n",
       "<td><b>1</b></td>\n",
       "<td><b>Error</b></td>\n",
       "<td><b>Rate</b></td></tr>\n",
       "<tr><td>0</td>\n",
       "<td>407.0</td>\n",
       "<td>42.0</td>\n",
       "<td>0.0935</td>\n",
       "<td> (42.0/449.0)</td></tr>\n",
       "<tr><td>1</td>\n",
       "<td>79.0</td>\n",
       "<td>197.0</td>\n",
       "<td>0.2862</td>\n",
       "<td> (79.0/276.0)</td></tr>\n",
       "<tr><td>Total</td>\n",
       "<td>486.0</td>\n",
       "<td>239.0</td>\n",
       "<td>0.1669</td>\n",
       "<td> (121.0/725.0)</td></tr></table></div>"
      ],
      "text/plain": [
       "       0    1    Error    Rate\n",
       "-----  ---  ---  -------  -------------\n",
       "0      407  42   0.0935   (42.0/449.0)\n",
       "1      79   197  0.2862   (79.0/276.0)\n",
       "Total  486  239  0.1669   (121.0/725.0)"
      ]
     },
     "metadata": {},
     "output_type": "display_data"
    },
    {
     "name": "stdout",
     "output_type": "stream",
     "text": [
      "Maximum Metrics: Maximum metrics at their respective thresholds\n",
      "\n"
     ]
    },
    {
     "data": {
      "text/html": [
       "<div style=\"overflow:auto\"><table style=\"width:50%\"><tr><td><b>metric</b></td>\n",
       "<td><b>threshold</b></td>\n",
       "<td><b>value</b></td>\n",
       "<td><b>idx</b></td></tr>\n",
       "<tr><td>max f1</td>\n",
       "<td>0.5493705</td>\n",
       "<td>0.7650485</td>\n",
       "<td>163.0</td></tr>\n",
       "<tr><td>max f2</td>\n",
       "<td>0.1560372</td>\n",
       "<td>0.8178191</td>\n",
       "<td>279.0</td></tr>\n",
       "<tr><td>max f0point5</td>\n",
       "<td>0.6826509</td>\n",
       "<td>0.8148148</td>\n",
       "<td>131.0</td></tr>\n",
       "<tr><td>max accuracy</td>\n",
       "<td>0.5953260</td>\n",
       "<td>0.8344828</td>\n",
       "<td>153.0</td></tr>\n",
       "<tr><td>max precision</td>\n",
       "<td>0.9910697</td>\n",
       "<td>1.0</td>\n",
       "<td>0.0</td></tr>\n",
       "<tr><td>max recall</td>\n",
       "<td>0.0594807</td>\n",
       "<td>1.0</td>\n",
       "<td>383.0</td></tr>\n",
       "<tr><td>max specificity</td>\n",
       "<td>0.9910697</td>\n",
       "<td>1.0</td>\n",
       "<td>0.0</td></tr>\n",
       "<tr><td>max absolute_mcc</td>\n",
       "<td>0.5953260</td>\n",
       "<td>0.6436382</td>\n",
       "<td>153.0</td></tr>\n",
       "<tr><td>max min_per_class_accuracy</td>\n",
       "<td>0.2848325</td>\n",
       "<td>0.8043478</td>\n",
       "<td>220.0</td></tr>\n",
       "<tr><td>max mean_per_class_accuracy</td>\n",
       "<td>0.5493705</td>\n",
       "<td>0.8101135</td>\n",
       "<td>163.0</td></tr></table></div>"
      ],
      "text/plain": [
       "metric                       threshold    value     idx\n",
       "---------------------------  -----------  --------  -----\n",
       "max f1                       0.549371     0.765049  163\n",
       "max f2                       0.156037     0.817819  279\n",
       "max f0point5                 0.682651     0.814815  131\n",
       "max accuracy                 0.595326     0.834483  153\n",
       "max precision                0.99107      1         0\n",
       "max recall                   0.0594807    1         383\n",
       "max specificity              0.99107      1         0\n",
       "max absolute_mcc             0.595326     0.643638  153\n",
       "max min_per_class_accuracy   0.284833     0.804348  220\n",
       "max mean_per_class_accuracy  0.549371     0.810113  163"
      ]
     },
     "metadata": {},
     "output_type": "display_data"
    },
    {
     "name": "stdout",
     "output_type": "stream",
     "text": [
      "Gains/Lift Table: Avg response rate: 38.07 %, avg score: 38.17 %\n",
      "\n"
     ]
    },
    {
     "data": {
      "text/html": [
       "<div style=\"overflow:auto\"><table style=\"width:50%\"><tr><td><b></b></td>\n",
       "<td><b>group</b></td>\n",
       "<td><b>cumulative_data_fraction</b></td>\n",
       "<td><b>lower_threshold</b></td>\n",
       "<td><b>lift</b></td>\n",
       "<td><b>cumulative_lift</b></td>\n",
       "<td><b>response_rate</b></td>\n",
       "<td><b>score</b></td>\n",
       "<td><b>cumulative_response_rate</b></td>\n",
       "<td><b>cumulative_score</b></td>\n",
       "<td><b>capture_rate</b></td>\n",
       "<td><b>cumulative_capture_rate</b></td>\n",
       "<td><b>gain</b></td>\n",
       "<td><b>cumulative_gain</b></td></tr>\n",
       "<tr><td></td>\n",
       "<td>1</td>\n",
       "<td>0.0110345</td>\n",
       "<td>0.9777959</td>\n",
       "<td>2.6268116</td>\n",
       "<td>2.6268116</td>\n",
       "<td>1.0</td>\n",
       "<td>0.9853203</td>\n",
       "<td>1.0</td>\n",
       "<td>0.9853203</td>\n",
       "<td>0.0289855</td>\n",
       "<td>0.0289855</td>\n",
       "<td>162.6811594</td>\n",
       "<td>162.6811594</td></tr>\n",
       "<tr><td></td>\n",
       "<td>2</td>\n",
       "<td>0.0206897</td>\n",
       "<td>0.9616584</td>\n",
       "<td>2.6268116</td>\n",
       "<td>2.6268116</td>\n",
       "<td>1.0</td>\n",
       "<td>0.9690965</td>\n",
       "<td>1.0</td>\n",
       "<td>0.9777492</td>\n",
       "<td>0.0253623</td>\n",
       "<td>0.0543478</td>\n",
       "<td>162.6811594</td>\n",
       "<td>162.6811594</td></tr>\n",
       "<tr><td></td>\n",
       "<td>3</td>\n",
       "<td>0.0303448</td>\n",
       "<td>0.9485371</td>\n",
       "<td>2.6268116</td>\n",
       "<td>2.6268116</td>\n",
       "<td>1.0</td>\n",
       "<td>0.9543850</td>\n",
       "<td>1.0</td>\n",
       "<td>0.9703151</td>\n",
       "<td>0.0253623</td>\n",
       "<td>0.0797101</td>\n",
       "<td>162.6811594</td>\n",
       "<td>162.6811594</td></tr>\n",
       "<tr><td></td>\n",
       "<td>4</td>\n",
       "<td>0.04</td>\n",
       "<td>0.9395837</td>\n",
       "<td>2.6268116</td>\n",
       "<td>2.6268116</td>\n",
       "<td>1.0</td>\n",
       "<td>0.9445539</td>\n",
       "<td>1.0</td>\n",
       "<td>0.9640969</td>\n",
       "<td>0.0253623</td>\n",
       "<td>0.1050725</td>\n",
       "<td>162.6811594</td>\n",
       "<td>162.6811594</td></tr>\n",
       "<tr><td></td>\n",
       "<td>5</td>\n",
       "<td>0.0510345</td>\n",
       "<td>0.9301690</td>\n",
       "<td>1.9701087</td>\n",
       "<td>2.4848218</td>\n",
       "<td>0.75</td>\n",
       "<td>0.9340333</td>\n",
       "<td>0.9459459</td>\n",
       "<td>0.9575967</td>\n",
       "<td>0.0217391</td>\n",
       "<td>0.1268116</td>\n",
       "<td>97.0108696</td>\n",
       "<td>148.4821778</td></tr>\n",
       "<tr><td></td>\n",
       "<td>6</td>\n",
       "<td>0.1006897</td>\n",
       "<td>0.9090973</td>\n",
       "<td>2.4808776</td>\n",
       "<td>2.4828767</td>\n",
       "<td>0.9444444</td>\n",
       "<td>0.9202295</td>\n",
       "<td>0.9452055</td>\n",
       "<td>0.9391690</td>\n",
       "<td>0.1231884</td>\n",
       "<td>0.25</td>\n",
       "<td>148.0877617</td>\n",
       "<td>148.2876712</td></tr>\n",
       "<tr><td></td>\n",
       "<td>7</td>\n",
       "<td>0.1503448</td>\n",
       "<td>0.8858529</td>\n",
       "<td>2.4808776</td>\n",
       "<td>2.4822165</td>\n",
       "<td>0.9444444</td>\n",
       "<td>0.8985364</td>\n",
       "<td>0.9449541</td>\n",
       "<td>0.9257491</td>\n",
       "<td>0.1231884</td>\n",
       "<td>0.3731884</td>\n",
       "<td>148.0877617</td>\n",
       "<td>148.2216461</td></tr>\n",
       "<tr><td></td>\n",
       "<td>8</td>\n",
       "<td>0.2</td>\n",
       "<td>0.8358700</td>\n",
       "<td>2.3349436</td>\n",
       "<td>2.4456522</td>\n",
       "<td>0.8888889</td>\n",
       "<td>0.8653432</td>\n",
       "<td>0.9310345</td>\n",
       "<td>0.9107517</td>\n",
       "<td>0.1159420</td>\n",
       "<td>0.4891304</td>\n",
       "<td>133.4943639</td>\n",
       "<td>144.5652174</td></tr>\n",
       "<tr><td></td>\n",
       "<td>9</td>\n",
       "<td>0.3006897</td>\n",
       "<td>0.6177648</td>\n",
       "<td>1.8351697</td>\n",
       "<td>2.2412246</td>\n",
       "<td>0.6986301</td>\n",
       "<td>0.7366942</td>\n",
       "<td>0.8532110</td>\n",
       "<td>0.8524664</td>\n",
       "<td>0.1847826</td>\n",
       "<td>0.6739130</td>\n",
       "<td>83.5169744</td>\n",
       "<td>124.1224571</td></tr>\n",
       "<tr><td></td>\n",
       "<td>10</td>\n",
       "<td>0.4</td>\n",
       "<td>0.3263788</td>\n",
       "<td>1.0215378</td>\n",
       "<td>1.9384058</td>\n",
       "<td>0.3888889</td>\n",
       "<td>0.4780363</td>\n",
       "<td>0.7379310</td>\n",
       "<td>0.7595045</td>\n",
       "<td>0.1014493</td>\n",
       "<td>0.7753623</td>\n",
       "<td>2.1537842</td>\n",
       "<td>93.8405797</td></tr>\n",
       "<tr><td></td>\n",
       "<td>11</td>\n",
       "<td>0.5006897</td>\n",
       "<td>0.1955257</td>\n",
       "<td>0.8276256</td>\n",
       "<td>1.7150258</td>\n",
       "<td>0.3150685</td>\n",
       "<td>0.2528852</td>\n",
       "<td>0.6528926</td>\n",
       "<td>0.6576223</td>\n",
       "<td>0.0833333</td>\n",
       "<td>0.8586957</td>\n",
       "<td>-17.2374429</td>\n",
       "<td>71.5025752</td></tr>\n",
       "<tr><td></td>\n",
       "<td>12</td>\n",
       "<td>0.6</td>\n",
       "<td>0.1335333</td>\n",
       "<td>0.4013184</td>\n",
       "<td>1.4975845</td>\n",
       "<td>0.1527778</td>\n",
       "<td>0.1577761</td>\n",
       "<td>0.5701149</td>\n",
       "<td>0.5748892</td>\n",
       "<td>0.0398551</td>\n",
       "<td>0.8985507</td>\n",
       "<td>-59.8681562</td>\n",
       "<td>49.7584541</td></tr>\n",
       "<tr><td></td>\n",
       "<td>13</td>\n",
       "<td>0.6993103</td>\n",
       "<td>0.1087041</td>\n",
       "<td>0.2553845</td>\n",
       "<td>1.3211774</td>\n",
       "<td>0.0972222</td>\n",
       "<td>0.1185372</td>\n",
       "<td>0.5029586</td>\n",
       "<td>0.5100818</td>\n",
       "<td>0.0253623</td>\n",
       "<td>0.9239130</td>\n",
       "<td>-74.4615539</td>\n",
       "<td>32.1177429</td></tr>\n",
       "<tr><td></td>\n",
       "<td>14</td>\n",
       "<td>0.8</td>\n",
       "<td>0.0939914</td>\n",
       "<td>0.2159023</td>\n",
       "<td>1.1820652</td>\n",
       "<td>0.0821918</td>\n",
       "<td>0.1005139</td>\n",
       "<td>0.45</td>\n",
       "<td>0.4585327</td>\n",
       "<td>0.0217391</td>\n",
       "<td>0.9456522</td>\n",
       "<td>-78.4097677</td>\n",
       "<td>18.2065217</td></tr>\n",
       "<tr><td></td>\n",
       "<td>15</td>\n",
       "<td>0.8993103</td>\n",
       "<td>0.0777891</td>\n",
       "<td>0.3648349</td>\n",
       "<td>1.0918189</td>\n",
       "<td>0.1388889</td>\n",
       "<td>0.0863397</td>\n",
       "<td>0.4156442</td>\n",
       "<td>0.4174317</td>\n",
       "<td>0.0362319</td>\n",
       "<td>0.9818841</td>\n",
       "<td>-63.5165056</td>\n",
       "<td>9.1818929</td></tr>\n",
       "<tr><td></td>\n",
       "<td>16</td>\n",
       "<td>1.0</td>\n",
       "<td>0.0329348</td>\n",
       "<td>0.1799186</td>\n",
       "<td>1.0</td>\n",
       "<td>0.0684932</td>\n",
       "<td>0.0627789</td>\n",
       "<td>0.3806897</td>\n",
       "<td>0.3817218</td>\n",
       "<td>0.0181159</td>\n",
       "<td>1.0</td>\n",
       "<td>-82.0081398</td>\n",
       "<td>0.0</td></tr></table></div>"
      ],
      "text/plain": [
       "    group    cumulative_data_fraction    lower_threshold    lift      cumulative_lift    response_rate    score      cumulative_response_rate    cumulative_score    capture_rate    cumulative_capture_rate    gain      cumulative_gain\n",
       "--  -------  --------------------------  -----------------  --------  -----------------  ---------------  ---------  --------------------------  ------------------  --------------  -------------------------  --------  -----------------\n",
       "    1        0.0110345                   0.977796           2.62681   2.62681            1                0.98532    1                           0.98532             0.0289855       0.0289855                  162.681   162.681\n",
       "    2        0.0206897                   0.961658           2.62681   2.62681            1                0.969096   1                           0.977749            0.0253623       0.0543478                  162.681   162.681\n",
       "    3        0.0303448                   0.948537           2.62681   2.62681            1                0.954385   1                           0.970315            0.0253623       0.0797101                  162.681   162.681\n",
       "    4        0.04                        0.939584           2.62681   2.62681            1                0.944554   1                           0.964097            0.0253623       0.105072                   162.681   162.681\n",
       "    5        0.0510345                   0.930169           1.97011   2.48482            0.75             0.934033   0.945946                    0.957597            0.0217391       0.126812                   97.0109   148.482\n",
       "    6        0.10069                     0.909097           2.48088   2.48288            0.944444         0.920229   0.945205                    0.939169            0.123188        0.25                       148.088   148.288\n",
       "    7        0.150345                    0.885853           2.48088   2.48222            0.944444         0.898536   0.944954                    0.925749            0.123188        0.373188                   148.088   148.222\n",
       "    8        0.2                         0.83587            2.33494   2.44565            0.888889         0.865343   0.931034                    0.910752            0.115942        0.48913                    133.494   144.565\n",
       "    9        0.30069                     0.617765           1.83517   2.24122            0.69863          0.736694   0.853211                    0.852466            0.184783        0.673913                   83.517    124.122\n",
       "    10       0.4                         0.326379           1.02154   1.93841            0.388889         0.478036   0.737931                    0.759504            0.101449        0.775362                   2.15378   93.8406\n",
       "    11       0.50069                     0.195526           0.827626  1.71503            0.315068         0.252885   0.652893                    0.657622            0.0833333       0.858696                   -17.2374  71.5026\n",
       "    12       0.6                         0.133533           0.401318  1.49758            0.152778         0.157776   0.570115                    0.574889            0.0398551       0.898551                   -59.8682  49.7585\n",
       "    13       0.69931                     0.108704           0.255384  1.32118            0.0972222        0.118537   0.502959                    0.510082            0.0253623       0.923913                   -74.4616  32.1177\n",
       "    14       0.8                         0.0939914          0.215902  1.18207            0.0821918        0.100514   0.45                        0.458533            0.0217391       0.945652                   -78.4098  18.2065\n",
       "    15       0.89931                     0.0777891          0.364835  1.09182            0.138889         0.0863397  0.415644                    0.417432            0.0362319       0.981884                   -63.5165  9.18189\n",
       "    16       1                           0.0329348          0.179919  1                  0.0684932        0.0627789  0.38069                     0.381722            0.0181159       1                          -82.0081  0"
      ]
     },
     "metadata": {},
     "output_type": "display_data"
    },
    {
     "name": "stdout",
     "output_type": "stream",
     "text": [
      "\n"
     ]
    },
    {
     "data": {
      "text/plain": []
     },
     "execution_count": 221,
     "metadata": {},
     "output_type": "execute_result"
    }
   ],
   "source": [
    "ti_gbm"
   ]
  },
  {
   "cell_type": "code",
   "execution_count": 222,
   "metadata": {},
   "outputs": [
    {
     "name": "stdout",
     "output_type": "stream",
     "text": [
      "Parse progress: |█████████████████████████████████████████████████████████| 100%\n"
     ]
    }
   ],
   "source": [
    "#load test data\n",
    "test = h2o.import_file('./archive/test.csv')"
   ]
  },
  {
   "cell_type": "code",
   "execution_count": 225,
   "metadata": {},
   "outputs": [],
   "source": [
    "test = test.drop('PassengerId',axis=1)"
   ]
  },
  {
   "cell_type": "code",
   "execution_count": 226,
   "metadata": {},
   "outputs": [
    {
     "data": {
      "text/plain": [
       "(418, 26)"
      ]
     },
     "execution_count": 226,
     "metadata": {},
     "output_type": "execute_result"
    }
   ],
   "source": [
    "test.shape"
   ]
  },
  {
   "cell_type": "code",
   "execution_count": 227,
   "metadata": {},
   "outputs": [
    {
     "name": "stdout",
     "output_type": "stream",
     "text": [
      "stackedensemble prediction progress: |████████████████████████████████████| 100%\n"
     ]
    }
   ],
   "source": [
    "#use the best perforamce model to predict on test set\n",
    "pred_ti = ti_gbm.predict(test)"
   ]
  },
  {
   "cell_type": "code",
   "execution_count": 228,
   "metadata": {},
   "outputs": [
    {
     "data": {
      "text/html": [
       "<table>\n",
       "<thead>\n",
       "<tr><th style=\"text-align: right;\">  predict</th><th style=\"text-align: right;\">      p0</th><th style=\"text-align: right;\">       p1</th></tr>\n",
       "</thead>\n",
       "<tbody>\n",
       "<tr><td style=\"text-align: right;\">        0</td><td style=\"text-align: right;\">0.925783</td><td style=\"text-align: right;\">0.0742168</td></tr>\n",
       "<tr><td style=\"text-align: right;\">        1</td><td style=\"text-align: right;\">0.488973</td><td style=\"text-align: right;\">0.511027 </td></tr>\n",
       "<tr><td style=\"text-align: right;\">        0</td><td style=\"text-align: right;\">0.809599</td><td style=\"text-align: right;\">0.190401 </td></tr>\n",
       "<tr><td style=\"text-align: right;\">        0</td><td style=\"text-align: right;\">0.844075</td><td style=\"text-align: right;\">0.155925 </td></tr>\n",
       "<tr><td style=\"text-align: right;\">        1</td><td style=\"text-align: right;\">0.164114</td><td style=\"text-align: right;\">0.835886 </td></tr>\n",
       "<tr><td style=\"text-align: right;\">        0</td><td style=\"text-align: right;\">0.914055</td><td style=\"text-align: right;\">0.0859445</td></tr>\n",
       "<tr><td style=\"text-align: right;\">        0</td><td style=\"text-align: right;\">0.572916</td><td style=\"text-align: right;\">0.427084 </td></tr>\n",
       "<tr><td style=\"text-align: right;\">        0</td><td style=\"text-align: right;\">0.906343</td><td style=\"text-align: right;\">0.0936574</td></tr>\n",
       "<tr><td style=\"text-align: right;\">        1</td><td style=\"text-align: right;\">0.151575</td><td style=\"text-align: right;\">0.848425 </td></tr>\n",
       "<tr><td style=\"text-align: right;\">        0</td><td style=\"text-align: right;\">0.925435</td><td style=\"text-align: right;\">0.0745655</td></tr>\n",
       "</tbody>\n",
       "</table>"
      ]
     },
     "metadata": {},
     "output_type": "display_data"
    },
    {
     "data": {
      "text/plain": []
     },
     "execution_count": 228,
     "metadata": {},
     "output_type": "execute_result"
    }
   ],
   "source": [
    "pred_ti.head()"
   ]
  },
  {
   "cell_type": "code",
   "execution_count": 186,
   "metadata": {},
   "outputs": [
    {
     "data": {
      "text/plain": [
       "h2o.frame.H2OFrame"
      ]
     },
     "execution_count": 186,
     "metadata": {},
     "output_type": "execute_result"
    }
   ],
   "source": [
    "type(pred_ti[0])"
   ]
  },
  {
   "cell_type": "code",
   "execution_count": 114,
   "metadata": {},
   "outputs": [
    {
     "data": {
      "text/plain": [
       "0    0\n",
       "1    0\n",
       "2    0\n",
       "3    0\n",
       "4    0\n",
       "5    0\n",
       "6    1\n",
       "7    0\n",
       "8    1\n",
       "9    0\n",
       "Name: p1, dtype: int64"
      ]
     },
     "execution_count": 114,
     "metadata": {},
     "output_type": "execute_result"
    }
   ],
   "source": [
    "#get the prediction result in correct format\n",
    "'''\n",
    "pred_ti_df = pred_ti.as_data_frame()\n",
    "pred_t = pred_ti_df.p1.apply(lambda i:int(round(i)))\n",
    "pred_t[:10]\n",
    "'''"
   ]
  },
  {
   "cell_type": "code",
   "execution_count": 229,
   "metadata": {},
   "outputs": [
    {
     "data": {
      "text/plain": [
       "0    0\n",
       "1    1\n",
       "2    0\n",
       "3    0\n",
       "4    1\n",
       "5    0\n",
       "6    0\n",
       "7    0\n",
       "8    1\n",
       "9    0\n",
       "Name: predict, dtype: int64"
      ]
     },
     "execution_count": 229,
     "metadata": {},
     "output_type": "execute_result"
    }
   ],
   "source": [
    "#get the prediction result in correct format\n",
    "pred_ti_df = pred_ti.as_data_frame()\n",
    "pred_t = pred_ti_df.predict\n",
    "pred_t[:10]"
   ]
  },
  {
   "cell_type": "code",
   "execution_count": 85,
   "metadata": {},
   "outputs": [],
   "source": [
    "#write the result table\n",
    "test_raw = pd.read_csv('./input/test.csv')"
   ]
  },
  {
   "cell_type": "code",
   "execution_count": 230,
   "metadata": {},
   "outputs": [],
   "source": [
    "res_ti = pd.concat([test_raw.PassengerId,pred_t],axis=1,ignore_index=True)"
   ]
  },
  {
   "cell_type": "code",
   "execution_count": 231,
   "metadata": {},
   "outputs": [],
   "source": [
    "res_ti.columns = ['PassengerId','Survived']"
   ]
  },
  {
   "cell_type": "code",
   "execution_count": 232,
   "metadata": {},
   "outputs": [
    {
     "data": {
      "text/html": [
       "<div>\n",
       "<style scoped>\n",
       "    .dataframe tbody tr th:only-of-type {\n",
       "        vertical-align: middle;\n",
       "    }\n",
       "\n",
       "    .dataframe tbody tr th {\n",
       "        vertical-align: top;\n",
       "    }\n",
       "\n",
       "    .dataframe thead th {\n",
       "        text-align: right;\n",
       "    }\n",
       "</style>\n",
       "<table border=\"1\" class=\"dataframe\">\n",
       "  <thead>\n",
       "    <tr style=\"text-align: right;\">\n",
       "      <th></th>\n",
       "      <th>PassengerId</th>\n",
       "      <th>Survived</th>\n",
       "    </tr>\n",
       "  </thead>\n",
       "  <tbody>\n",
       "    <tr>\n",
       "      <th>0</th>\n",
       "      <td>892</td>\n",
       "      <td>0</td>\n",
       "    </tr>\n",
       "    <tr>\n",
       "      <th>1</th>\n",
       "      <td>893</td>\n",
       "      <td>1</td>\n",
       "    </tr>\n",
       "    <tr>\n",
       "      <th>2</th>\n",
       "      <td>894</td>\n",
       "      <td>0</td>\n",
       "    </tr>\n",
       "    <tr>\n",
       "      <th>3</th>\n",
       "      <td>895</td>\n",
       "      <td>0</td>\n",
       "    </tr>\n",
       "    <tr>\n",
       "      <th>4</th>\n",
       "      <td>896</td>\n",
       "      <td>1</td>\n",
       "    </tr>\n",
       "  </tbody>\n",
       "</table>\n",
       "</div>"
      ],
      "text/plain": [
       "   PassengerId  Survived\n",
       "0          892         0\n",
       "1          893         1\n",
       "2          894         0\n",
       "3          895         0\n",
       "4          896         1"
      ]
     },
     "execution_count": 232,
     "metadata": {},
     "output_type": "execute_result"
    }
   ],
   "source": [
    "res_ti.head()"
   ]
  },
  {
   "cell_type": "code",
   "execution_count": 233,
   "metadata": {},
   "outputs": [],
   "source": [
    "#save the prediction result\n",
    "res_ti.to_csv('mypre_h2o4_hotcoding.csv',index=False)"
   ]
  },
  {
   "cell_type": "code",
   "execution_count": 124,
   "metadata": {},
   "outputs": [],
   "source": [
    "#try delete age and fare\n",
    "train1 = train.drop(['Age','Fare'],axis=1)"
   ]
  },
  {
   "cell_type": "code",
   "execution_count": 180,
   "metadata": {},
   "outputs": [],
   "source": [
    "test1 = test.drop(['Age','Fare'], axis =1)"
   ]
  },
  {
   "cell_type": "code",
   "execution_count": 182,
   "metadata": {},
   "outputs": [],
   "source": [
    "test1 = test1.drop('True',axis=1)"
   ]
  },
  {
   "cell_type": "code",
   "execution_count": 183,
   "metadata": {},
   "outputs": [
    {
     "data": {
      "text/html": [
       "<table>\n",
       "<thead>\n",
       "<tr><th style=\"text-align: right;\">  Pclass</th><th style=\"text-align: right;\">  SibSp</th><th style=\"text-align: right;\">  Parch</th><th style=\"text-align: right;\">  FamilySize</th><th style=\"text-align: right;\">  IsAlone</th><th style=\"text-align: right;\">  male</th><th style=\"text-align: right;\">  Q</th><th style=\"text-align: right;\">  S</th></tr>\n",
       "</thead>\n",
       "<tbody>\n",
       "<tr><td style=\"text-align: right;\">       3</td><td style=\"text-align: right;\">      0</td><td style=\"text-align: right;\">      0</td><td style=\"text-align: right;\">           1</td><td style=\"text-align: right;\">        1</td><td style=\"text-align: right;\">     1</td><td style=\"text-align: right;\">  1</td><td style=\"text-align: right;\">  0</td></tr>\n",
       "<tr><td style=\"text-align: right;\">       3</td><td style=\"text-align: right;\">      1</td><td style=\"text-align: right;\">      0</td><td style=\"text-align: right;\">           2</td><td style=\"text-align: right;\">        0</td><td style=\"text-align: right;\">     0</td><td style=\"text-align: right;\">  0</td><td style=\"text-align: right;\">  1</td></tr>\n",
       "<tr><td style=\"text-align: right;\">       2</td><td style=\"text-align: right;\">      0</td><td style=\"text-align: right;\">      0</td><td style=\"text-align: right;\">           1</td><td style=\"text-align: right;\">        1</td><td style=\"text-align: right;\">     1</td><td style=\"text-align: right;\">  1</td><td style=\"text-align: right;\">  0</td></tr>\n",
       "<tr><td style=\"text-align: right;\">       3</td><td style=\"text-align: right;\">      0</td><td style=\"text-align: right;\">      0</td><td style=\"text-align: right;\">           1</td><td style=\"text-align: right;\">        1</td><td style=\"text-align: right;\">     1</td><td style=\"text-align: right;\">  0</td><td style=\"text-align: right;\">  1</td></tr>\n",
       "<tr><td style=\"text-align: right;\">       3</td><td style=\"text-align: right;\">      1</td><td style=\"text-align: right;\">      1</td><td style=\"text-align: right;\">           3</td><td style=\"text-align: right;\">        0</td><td style=\"text-align: right;\">     0</td><td style=\"text-align: right;\">  0</td><td style=\"text-align: right;\">  1</td></tr>\n",
       "<tr><td style=\"text-align: right;\">       3</td><td style=\"text-align: right;\">      0</td><td style=\"text-align: right;\">      0</td><td style=\"text-align: right;\">           1</td><td style=\"text-align: right;\">        1</td><td style=\"text-align: right;\">     1</td><td style=\"text-align: right;\">  0</td><td style=\"text-align: right;\">  1</td></tr>\n",
       "<tr><td style=\"text-align: right;\">       3</td><td style=\"text-align: right;\">      0</td><td style=\"text-align: right;\">      0</td><td style=\"text-align: right;\">           1</td><td style=\"text-align: right;\">        1</td><td style=\"text-align: right;\">     0</td><td style=\"text-align: right;\">  1</td><td style=\"text-align: right;\">  0</td></tr>\n",
       "<tr><td style=\"text-align: right;\">       2</td><td style=\"text-align: right;\">      1</td><td style=\"text-align: right;\">      1</td><td style=\"text-align: right;\">           3</td><td style=\"text-align: right;\">        0</td><td style=\"text-align: right;\">     1</td><td style=\"text-align: right;\">  0</td><td style=\"text-align: right;\">  1</td></tr>\n",
       "<tr><td style=\"text-align: right;\">       3</td><td style=\"text-align: right;\">      0</td><td style=\"text-align: right;\">      0</td><td style=\"text-align: right;\">           1</td><td style=\"text-align: right;\">        1</td><td style=\"text-align: right;\">     0</td><td style=\"text-align: right;\">  0</td><td style=\"text-align: right;\">  0</td></tr>\n",
       "<tr><td style=\"text-align: right;\">       3</td><td style=\"text-align: right;\">      2</td><td style=\"text-align: right;\">      0</td><td style=\"text-align: right;\">           3</td><td style=\"text-align: right;\">        0</td><td style=\"text-align: right;\">     1</td><td style=\"text-align: right;\">  0</td><td style=\"text-align: right;\">  1</td></tr>\n",
       "</tbody>\n",
       "</table>"
      ]
     },
     "metadata": {},
     "output_type": "display_data"
    },
    {
     "data": {
      "text/plain": []
     },
     "execution_count": 183,
     "metadata": {},
     "output_type": "execute_result"
    }
   ],
   "source": [
    "test1.head()"
   ]
  }
 ],
 "metadata": {
  "kernelspec": {
   "display_name": "Python 3",
   "language": "python",
   "name": "python3"
  },
  "language_info": {
   "codemirror_mode": {
    "name": "ipython",
    "version": 3
   },
   "file_extension": ".py",
   "mimetype": "text/x-python",
   "name": "python",
   "nbconvert_exporter": "python",
   "pygments_lexer": "ipython3",
   "version": "3.6.4"
  }
 },
 "nbformat": 4,
 "nbformat_minor": 2
}
